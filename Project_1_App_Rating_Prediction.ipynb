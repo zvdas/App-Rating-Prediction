{
 "cells": [
  {
   "cell_type": "markdown",
   "metadata": {},
   "source": [
    "# Project 1 - App Rating Prediction"
   ]
  },
  {
   "cell_type": "markdown",
   "metadata": {
    "colab_type": "text",
    "id": "8QFfSzWnfRTO"
   },
   "source": [
    "## Step 1 : Load the data file using pandas."
   ]
  },
  {
   "cell_type": "markdown",
   "metadata": {},
   "source": [
    "##### Import the Necessary Libraries"
   ]
  },
  {
   "cell_type": "code",
   "execution_count": 1,
   "metadata": {
    "colab": {},
    "colab_type": "code",
    "id": "mZ2PaWnFX7ly"
   },
   "outputs": [],
   "source": [
    "import pandas as pd\n",
    "import numpy as np\n",
    "import zipfile\n",
    "import seaborn as sns\n",
    "import matplotlib.pyplot as plt\n",
    "from sklearn import datasets, linear_model\n",
    "from sklearn.model_selection import train_test_split\n",
    "from sklearn.linear_model import LinearRegression\n",
    "from math import sqrt\n",
    "from sklearn.metrics import mean_squared_error"
   ]
  },
  {
   "cell_type": "code",
   "execution_count": 2,
   "metadata": {},
   "outputs": [],
   "source": [
    "with zipfile.ZipFile('1569582940_googleplaystore.zip','r') as zip_ref:\n",
    "    zip_ref.extractall('Project 1 - App Rating Prediction')"
   ]
  },
  {
   "cell_type": "code",
   "execution_count": 3,
   "metadata": {},
   "outputs": [
    {
     "data": {
      "text/html": [
       "<div>\n",
       "<style scoped>\n",
       "    .dataframe tbody tr th:only-of-type {\n",
       "        vertical-align: middle;\n",
       "    }\n",
       "\n",
       "    .dataframe tbody tr th {\n",
       "        vertical-align: top;\n",
       "    }\n",
       "\n",
       "    .dataframe thead th {\n",
       "        text-align: right;\n",
       "    }\n",
       "</style>\n",
       "<table border=\"1\" class=\"dataframe\">\n",
       "  <thead>\n",
       "    <tr style=\"text-align: right;\">\n",
       "      <th></th>\n",
       "      <th>App</th>\n",
       "      <th>Category</th>\n",
       "      <th>Rating</th>\n",
       "      <th>Reviews</th>\n",
       "      <th>Size</th>\n",
       "      <th>Installs</th>\n",
       "      <th>Type</th>\n",
       "      <th>Price</th>\n",
       "      <th>Content Rating</th>\n",
       "      <th>Genres</th>\n",
       "      <th>Last Updated</th>\n",
       "      <th>Current Ver</th>\n",
       "      <th>Android Ver</th>\n",
       "    </tr>\n",
       "  </thead>\n",
       "  <tbody>\n",
       "    <tr>\n",
       "      <th>0</th>\n",
       "      <td>Photo Editor &amp; Candy Camera &amp; Grid &amp; ScrapBook</td>\n",
       "      <td>ART_AND_DESIGN</td>\n",
       "      <td>4.1</td>\n",
       "      <td>159</td>\n",
       "      <td>19M</td>\n",
       "      <td>10,000+</td>\n",
       "      <td>Free</td>\n",
       "      <td>0</td>\n",
       "      <td>Everyone</td>\n",
       "      <td>Art &amp; Design</td>\n",
       "      <td>January 7, 2018</td>\n",
       "      <td>1.0.0</td>\n",
       "      <td>4.0.3 and up</td>\n",
       "    </tr>\n",
       "    <tr>\n",
       "      <th>1</th>\n",
       "      <td>Coloring book moana</td>\n",
       "      <td>ART_AND_DESIGN</td>\n",
       "      <td>3.9</td>\n",
       "      <td>967</td>\n",
       "      <td>14M</td>\n",
       "      <td>500,000+</td>\n",
       "      <td>Free</td>\n",
       "      <td>0</td>\n",
       "      <td>Everyone</td>\n",
       "      <td>Art &amp; Design;Pretend Play</td>\n",
       "      <td>January 15, 2018</td>\n",
       "      <td>2.0.0</td>\n",
       "      <td>4.0.3 and up</td>\n",
       "    </tr>\n",
       "    <tr>\n",
       "      <th>2</th>\n",
       "      <td>U Launcher Lite – FREE Live Cool Themes, Hide ...</td>\n",
       "      <td>ART_AND_DESIGN</td>\n",
       "      <td>4.7</td>\n",
       "      <td>87510</td>\n",
       "      <td>8.7M</td>\n",
       "      <td>5,000,000+</td>\n",
       "      <td>Free</td>\n",
       "      <td>0</td>\n",
       "      <td>Everyone</td>\n",
       "      <td>Art &amp; Design</td>\n",
       "      <td>August 1, 2018</td>\n",
       "      <td>1.2.4</td>\n",
       "      <td>4.0.3 and up</td>\n",
       "    </tr>\n",
       "    <tr>\n",
       "      <th>3</th>\n",
       "      <td>Sketch - Draw &amp; Paint</td>\n",
       "      <td>ART_AND_DESIGN</td>\n",
       "      <td>4.5</td>\n",
       "      <td>215644</td>\n",
       "      <td>25M</td>\n",
       "      <td>50,000,000+</td>\n",
       "      <td>Free</td>\n",
       "      <td>0</td>\n",
       "      <td>Teen</td>\n",
       "      <td>Art &amp; Design</td>\n",
       "      <td>June 8, 2018</td>\n",
       "      <td>Varies with device</td>\n",
       "      <td>4.2 and up</td>\n",
       "    </tr>\n",
       "    <tr>\n",
       "      <th>4</th>\n",
       "      <td>Pixel Draw - Number Art Coloring Book</td>\n",
       "      <td>ART_AND_DESIGN</td>\n",
       "      <td>4.3</td>\n",
       "      <td>967</td>\n",
       "      <td>2.8M</td>\n",
       "      <td>100,000+</td>\n",
       "      <td>Free</td>\n",
       "      <td>0</td>\n",
       "      <td>Everyone</td>\n",
       "      <td>Art &amp; Design;Creativity</td>\n",
       "      <td>June 20, 2018</td>\n",
       "      <td>1.1</td>\n",
       "      <td>4.4 and up</td>\n",
       "    </tr>\n",
       "  </tbody>\n",
       "</table>\n",
       "</div>"
      ],
      "text/plain": [
       "                                                 App        Category  Rating  \\\n",
       "0     Photo Editor & Candy Camera & Grid & ScrapBook  ART_AND_DESIGN     4.1   \n",
       "1                                Coloring book moana  ART_AND_DESIGN     3.9   \n",
       "2  U Launcher Lite – FREE Live Cool Themes, Hide ...  ART_AND_DESIGN     4.7   \n",
       "3                              Sketch - Draw & Paint  ART_AND_DESIGN     4.5   \n",
       "4              Pixel Draw - Number Art Coloring Book  ART_AND_DESIGN     4.3   \n",
       "\n",
       "  Reviews  Size     Installs  Type Price Content Rating  \\\n",
       "0     159   19M      10,000+  Free     0       Everyone   \n",
       "1     967   14M     500,000+  Free     0       Everyone   \n",
       "2   87510  8.7M   5,000,000+  Free     0       Everyone   \n",
       "3  215644   25M  50,000,000+  Free     0           Teen   \n",
       "4     967  2.8M     100,000+  Free     0       Everyone   \n",
       "\n",
       "                      Genres      Last Updated         Current Ver  \\\n",
       "0               Art & Design   January 7, 2018               1.0.0   \n",
       "1  Art & Design;Pretend Play  January 15, 2018               2.0.0   \n",
       "2               Art & Design    August 1, 2018               1.2.4   \n",
       "3               Art & Design      June 8, 2018  Varies with device   \n",
       "4    Art & Design;Creativity     June 20, 2018                 1.1   \n",
       "\n",
       "    Android Ver  \n",
       "0  4.0.3 and up  \n",
       "1  4.0.3 and up  \n",
       "2  4.0.3 and up  \n",
       "3    4.2 and up  \n",
       "4    4.4 and up  "
      ]
     },
     "execution_count": 3,
     "metadata": {},
     "output_type": "execute_result"
    }
   ],
   "source": [
    "gdata = pd.read_csv(\"Project 1 - App Rating Prediction/googleplaystore.csv\")\n",
    "gdata.head()"
   ]
  },
  {
   "cell_type": "markdown",
   "metadata": {
    "colab_type": "text",
    "id": "cfCadkF6fcor"
   },
   "source": [
    "## Step 2 : Check for null values in the data. Get the number of null values for each column."
   ]
  },
  {
   "cell_type": "code",
   "execution_count": 4,
   "metadata": {
    "colab": {
     "base_uri": "https://localhost:8080/",
     "height": 0
    },
    "colab_type": "code",
    "id": "RkVb5WcdecWl",
    "outputId": "41f894a6-b229-4bda-be83-d3be8e483c48"
   },
   "outputs": [
    {
     "data": {
      "text/plain": [
       "App                  0\n",
       "Category             0\n",
       "Rating            1474\n",
       "Reviews              0\n",
       "Size                 0\n",
       "Installs             0\n",
       "Type                 1\n",
       "Price                0\n",
       "Content Rating       1\n",
       "Genres               0\n",
       "Last Updated         0\n",
       "Current Ver          8\n",
       "Android Ver          3\n",
       "dtype: int64"
      ]
     },
     "execution_count": 4,
     "metadata": {},
     "output_type": "execute_result"
    }
   ],
   "source": [
    "gdata.isna().sum()"
   ]
  },
  {
   "cell_type": "markdown",
   "metadata": {
    "colab_type": "text",
    "id": "ElS5vV-0fqeR"
   },
   "source": [
    "## Step 3 : Drop records with nulls in any of the columns."
   ]
  },
  {
   "cell_type": "code",
   "execution_count": 5,
   "metadata": {
    "colab": {
     "base_uri": "https://localhost:8080/",
     "height": 0
    },
    "colab_type": "code",
    "id": "UcA4z2WXlUL_",
    "outputId": "f0d1ab36-dbd1-4c85-c9bb-dfe3f70f4f14"
   },
   "outputs": [
    {
     "data": {
      "text/html": [
       "<div>\n",
       "<style scoped>\n",
       "    .dataframe tbody tr th:only-of-type {\n",
       "        vertical-align: middle;\n",
       "    }\n",
       "\n",
       "    .dataframe tbody tr th {\n",
       "        vertical-align: top;\n",
       "    }\n",
       "\n",
       "    .dataframe thead th {\n",
       "        text-align: right;\n",
       "    }\n",
       "</style>\n",
       "<table border=\"1\" class=\"dataframe\">\n",
       "  <thead>\n",
       "    <tr style=\"text-align: right;\">\n",
       "      <th></th>\n",
       "      <th>App</th>\n",
       "      <th>Category</th>\n",
       "      <th>Rating</th>\n",
       "      <th>Reviews</th>\n",
       "      <th>Size</th>\n",
       "      <th>Installs</th>\n",
       "      <th>Type</th>\n",
       "      <th>Price</th>\n",
       "      <th>Content Rating</th>\n",
       "      <th>Genres</th>\n",
       "      <th>Last Updated</th>\n",
       "      <th>Current Ver</th>\n",
       "      <th>Android Ver</th>\n",
       "    </tr>\n",
       "  </thead>\n",
       "  <tbody>\n",
       "    <tr>\n",
       "      <th>0</th>\n",
       "      <td>Photo Editor &amp; Candy Camera &amp; Grid &amp; ScrapBook</td>\n",
       "      <td>ART_AND_DESIGN</td>\n",
       "      <td>4.1</td>\n",
       "      <td>159</td>\n",
       "      <td>19M</td>\n",
       "      <td>10,000+</td>\n",
       "      <td>Free</td>\n",
       "      <td>0</td>\n",
       "      <td>Everyone</td>\n",
       "      <td>Art &amp; Design</td>\n",
       "      <td>January 7, 2018</td>\n",
       "      <td>1.0.0</td>\n",
       "      <td>4.0.3 and up</td>\n",
       "    </tr>\n",
       "    <tr>\n",
       "      <th>1</th>\n",
       "      <td>Coloring book moana</td>\n",
       "      <td>ART_AND_DESIGN</td>\n",
       "      <td>3.9</td>\n",
       "      <td>967</td>\n",
       "      <td>14M</td>\n",
       "      <td>500,000+</td>\n",
       "      <td>Free</td>\n",
       "      <td>0</td>\n",
       "      <td>Everyone</td>\n",
       "      <td>Art &amp; Design;Pretend Play</td>\n",
       "      <td>January 15, 2018</td>\n",
       "      <td>2.0.0</td>\n",
       "      <td>4.0.3 and up</td>\n",
       "    </tr>\n",
       "    <tr>\n",
       "      <th>2</th>\n",
       "      <td>U Launcher Lite – FREE Live Cool Themes, Hide ...</td>\n",
       "      <td>ART_AND_DESIGN</td>\n",
       "      <td>4.7</td>\n",
       "      <td>87510</td>\n",
       "      <td>8.7M</td>\n",
       "      <td>5,000,000+</td>\n",
       "      <td>Free</td>\n",
       "      <td>0</td>\n",
       "      <td>Everyone</td>\n",
       "      <td>Art &amp; Design</td>\n",
       "      <td>August 1, 2018</td>\n",
       "      <td>1.2.4</td>\n",
       "      <td>4.0.3 and up</td>\n",
       "    </tr>\n",
       "    <tr>\n",
       "      <th>3</th>\n",
       "      <td>Sketch - Draw &amp; Paint</td>\n",
       "      <td>ART_AND_DESIGN</td>\n",
       "      <td>4.5</td>\n",
       "      <td>215644</td>\n",
       "      <td>25M</td>\n",
       "      <td>50,000,000+</td>\n",
       "      <td>Free</td>\n",
       "      <td>0</td>\n",
       "      <td>Teen</td>\n",
       "      <td>Art &amp; Design</td>\n",
       "      <td>June 8, 2018</td>\n",
       "      <td>Varies with device</td>\n",
       "      <td>4.2 and up</td>\n",
       "    </tr>\n",
       "    <tr>\n",
       "      <th>4</th>\n",
       "      <td>Pixel Draw - Number Art Coloring Book</td>\n",
       "      <td>ART_AND_DESIGN</td>\n",
       "      <td>4.3</td>\n",
       "      <td>967</td>\n",
       "      <td>2.8M</td>\n",
       "      <td>100,000+</td>\n",
       "      <td>Free</td>\n",
       "      <td>0</td>\n",
       "      <td>Everyone</td>\n",
       "      <td>Art &amp; Design;Creativity</td>\n",
       "      <td>June 20, 2018</td>\n",
       "      <td>1.1</td>\n",
       "      <td>4.4 and up</td>\n",
       "    </tr>\n",
       "    <tr>\n",
       "      <th>...</th>\n",
       "      <td>...</td>\n",
       "      <td>...</td>\n",
       "      <td>...</td>\n",
       "      <td>...</td>\n",
       "      <td>...</td>\n",
       "      <td>...</td>\n",
       "      <td>...</td>\n",
       "      <td>...</td>\n",
       "      <td>...</td>\n",
       "      <td>...</td>\n",
       "      <td>...</td>\n",
       "      <td>...</td>\n",
       "      <td>...</td>\n",
       "    </tr>\n",
       "    <tr>\n",
       "      <th>10834</th>\n",
       "      <td>FR Calculator</td>\n",
       "      <td>FAMILY</td>\n",
       "      <td>4.0</td>\n",
       "      <td>7</td>\n",
       "      <td>2.6M</td>\n",
       "      <td>500+</td>\n",
       "      <td>Free</td>\n",
       "      <td>0</td>\n",
       "      <td>Everyone</td>\n",
       "      <td>Education</td>\n",
       "      <td>June 18, 2017</td>\n",
       "      <td>1.0.0</td>\n",
       "      <td>4.1 and up</td>\n",
       "    </tr>\n",
       "    <tr>\n",
       "      <th>10836</th>\n",
       "      <td>Sya9a Maroc - FR</td>\n",
       "      <td>FAMILY</td>\n",
       "      <td>4.5</td>\n",
       "      <td>38</td>\n",
       "      <td>53M</td>\n",
       "      <td>5,000+</td>\n",
       "      <td>Free</td>\n",
       "      <td>0</td>\n",
       "      <td>Everyone</td>\n",
       "      <td>Education</td>\n",
       "      <td>July 25, 2017</td>\n",
       "      <td>1.48</td>\n",
       "      <td>4.1 and up</td>\n",
       "    </tr>\n",
       "    <tr>\n",
       "      <th>10837</th>\n",
       "      <td>Fr. Mike Schmitz Audio Teachings</td>\n",
       "      <td>FAMILY</td>\n",
       "      <td>5.0</td>\n",
       "      <td>4</td>\n",
       "      <td>3.6M</td>\n",
       "      <td>100+</td>\n",
       "      <td>Free</td>\n",
       "      <td>0</td>\n",
       "      <td>Everyone</td>\n",
       "      <td>Education</td>\n",
       "      <td>July 6, 2018</td>\n",
       "      <td>1.0</td>\n",
       "      <td>4.1 and up</td>\n",
       "    </tr>\n",
       "    <tr>\n",
       "      <th>10839</th>\n",
       "      <td>The SCP Foundation DB fr nn5n</td>\n",
       "      <td>BOOKS_AND_REFERENCE</td>\n",
       "      <td>4.5</td>\n",
       "      <td>114</td>\n",
       "      <td>Varies with device</td>\n",
       "      <td>1,000+</td>\n",
       "      <td>Free</td>\n",
       "      <td>0</td>\n",
       "      <td>Mature 17+</td>\n",
       "      <td>Books &amp; Reference</td>\n",
       "      <td>January 19, 2015</td>\n",
       "      <td>Varies with device</td>\n",
       "      <td>Varies with device</td>\n",
       "    </tr>\n",
       "    <tr>\n",
       "      <th>10840</th>\n",
       "      <td>iHoroscope - 2018 Daily Horoscope &amp; Astrology</td>\n",
       "      <td>LIFESTYLE</td>\n",
       "      <td>4.5</td>\n",
       "      <td>398307</td>\n",
       "      <td>19M</td>\n",
       "      <td>10,000,000+</td>\n",
       "      <td>Free</td>\n",
       "      <td>0</td>\n",
       "      <td>Everyone</td>\n",
       "      <td>Lifestyle</td>\n",
       "      <td>July 25, 2018</td>\n",
       "      <td>Varies with device</td>\n",
       "      <td>Varies with device</td>\n",
       "    </tr>\n",
       "  </tbody>\n",
       "</table>\n",
       "<p>9360 rows × 13 columns</p>\n",
       "</div>"
      ],
      "text/plain": [
       "                                                     App             Category  \\\n",
       "0         Photo Editor & Candy Camera & Grid & ScrapBook       ART_AND_DESIGN   \n",
       "1                                    Coloring book moana       ART_AND_DESIGN   \n",
       "2      U Launcher Lite – FREE Live Cool Themes, Hide ...       ART_AND_DESIGN   \n",
       "3                                  Sketch - Draw & Paint       ART_AND_DESIGN   \n",
       "4                  Pixel Draw - Number Art Coloring Book       ART_AND_DESIGN   \n",
       "...                                                  ...                  ...   \n",
       "10834                                      FR Calculator               FAMILY   \n",
       "10836                                   Sya9a Maroc - FR               FAMILY   \n",
       "10837                   Fr. Mike Schmitz Audio Teachings               FAMILY   \n",
       "10839                      The SCP Foundation DB fr nn5n  BOOKS_AND_REFERENCE   \n",
       "10840      iHoroscope - 2018 Daily Horoscope & Astrology            LIFESTYLE   \n",
       "\n",
       "       Rating Reviews                Size     Installs  Type Price  \\\n",
       "0         4.1     159                 19M      10,000+  Free     0   \n",
       "1         3.9     967                 14M     500,000+  Free     0   \n",
       "2         4.7   87510                8.7M   5,000,000+  Free     0   \n",
       "3         4.5  215644                 25M  50,000,000+  Free     0   \n",
       "4         4.3     967                2.8M     100,000+  Free     0   \n",
       "...       ...     ...                 ...          ...   ...   ...   \n",
       "10834     4.0       7                2.6M         500+  Free     0   \n",
       "10836     4.5      38                 53M       5,000+  Free     0   \n",
       "10837     5.0       4                3.6M         100+  Free     0   \n",
       "10839     4.5     114  Varies with device       1,000+  Free     0   \n",
       "10840     4.5  398307                 19M  10,000,000+  Free     0   \n",
       "\n",
       "      Content Rating                     Genres      Last Updated  \\\n",
       "0           Everyone               Art & Design   January 7, 2018   \n",
       "1           Everyone  Art & Design;Pretend Play  January 15, 2018   \n",
       "2           Everyone               Art & Design    August 1, 2018   \n",
       "3               Teen               Art & Design      June 8, 2018   \n",
       "4           Everyone    Art & Design;Creativity     June 20, 2018   \n",
       "...              ...                        ...               ...   \n",
       "10834       Everyone                  Education     June 18, 2017   \n",
       "10836       Everyone                  Education     July 25, 2017   \n",
       "10837       Everyone                  Education      July 6, 2018   \n",
       "10839     Mature 17+          Books & Reference  January 19, 2015   \n",
       "10840       Everyone                  Lifestyle     July 25, 2018   \n",
       "\n",
       "              Current Ver         Android Ver  \n",
       "0                   1.0.0        4.0.3 and up  \n",
       "1                   2.0.0        4.0.3 and up  \n",
       "2                   1.2.4        4.0.3 and up  \n",
       "3      Varies with device          4.2 and up  \n",
       "4                     1.1          4.4 and up  \n",
       "...                   ...                 ...  \n",
       "10834               1.0.0          4.1 and up  \n",
       "10836                1.48          4.1 and up  \n",
       "10837                 1.0          4.1 and up  \n",
       "10839  Varies with device  Varies with device  \n",
       "10840  Varies with device  Varies with device  \n",
       "\n",
       "[9360 rows x 13 columns]"
      ]
     },
     "execution_count": 5,
     "metadata": {},
     "output_type": "execute_result"
    }
   ],
   "source": [
    "gdata1 = gdata.dropna()\n",
    "gdata1"
   ]
  },
  {
   "cell_type": "code",
   "execution_count": 6,
   "metadata": {
    "colab": {
     "base_uri": "https://localhost:8080/",
     "height": 0
    },
    "colab_type": "code",
    "id": "dqEpYa1txlY0",
    "outputId": "49d38fff-7c4c-44b1-da99-8e899d7b9edf"
   },
   "outputs": [
    {
     "data": {
      "text/plain": [
       "App               0\n",
       "Category          0\n",
       "Rating            0\n",
       "Reviews           0\n",
       "Size              0\n",
       "Installs          0\n",
       "Type              0\n",
       "Price             0\n",
       "Content Rating    0\n",
       "Genres            0\n",
       "Last Updated      0\n",
       "Current Ver       0\n",
       "Android Ver       0\n",
       "dtype: int64"
      ]
     },
     "execution_count": 6,
     "metadata": {},
     "output_type": "execute_result"
    }
   ],
   "source": [
    "gdata1.isna().sum()"
   ]
  },
  {
   "cell_type": "code",
   "execution_count": 7,
   "metadata": {
    "colab": {
     "base_uri": "https://localhost:8080/",
     "height": 0
    },
    "colab_type": "code",
    "id": "VzXL3NVaH8Ip",
    "outputId": "d5e966ce-a113-4002-c8cc-fd0d67e88313"
   },
   "outputs": [
    {
     "name": "stdout",
     "output_type": "stream",
     "text": [
      "<class 'pandas.core.frame.DataFrame'>\n",
      "Int64Index: 9360 entries, 0 to 10840\n",
      "Data columns (total 13 columns):\n",
      " #   Column          Non-Null Count  Dtype  \n",
      "---  ------          --------------  -----  \n",
      " 0   App             9360 non-null   object \n",
      " 1   Category        9360 non-null   object \n",
      " 2   Rating          9360 non-null   float64\n",
      " 3   Reviews         9360 non-null   object \n",
      " 4   Size            9360 non-null   object \n",
      " 5   Installs        9360 non-null   object \n",
      " 6   Type            9360 non-null   object \n",
      " 7   Price           9360 non-null   object \n",
      " 8   Content Rating  9360 non-null   object \n",
      " 9   Genres          9360 non-null   object \n",
      " 10  Last Updated    9360 non-null   object \n",
      " 11  Current Ver     9360 non-null   object \n",
      " 12  Android Ver     9360 non-null   object \n",
      "dtypes: float64(1), object(12)\n",
      "memory usage: 1023.8+ KB\n"
     ]
    }
   ],
   "source": [
    "gdata1.info()"
   ]
  },
  {
   "cell_type": "markdown",
   "metadata": {
    "colab_type": "text",
    "id": "kC_7VAlbmMzu"
   },
   "source": [
    "## Step 4 : Variables seem to have incorrect type and inconsistent formatting. You need to fix them:"
   ]
  },
  {
   "cell_type": "markdown",
   "metadata": {
    "colab_type": "text",
    "id": "oknBHRw2nMSx"
   },
   "source": [
    "### Step 4 Substep 1 : Size column has sizes in Kb as well as Mb. To analyze, you’ll need to convert these to numeric."
   ]
  },
  {
   "cell_type": "markdown",
   "metadata": {
    "colab_type": "text",
    "id": "TQimqzBEnX65"
   },
   "source": [
    "#### Step 4 Substep 1 Part 1: Extract the numeric value from the column"
   ]
  },
  {
   "cell_type": "code",
   "execution_count": 8,
   "metadata": {
    "colab": {
     "base_uri": "https://localhost:8080/",
     "height": 0
    },
    "colab_type": "code",
    "id": "hMu_jDuDoS8t",
    "outputId": "51655208-e5f1-4821-c3c8-344b459aa926"
   },
   "outputs": [
    {
     "data": {
      "text/plain": [
       "0     19M\n",
       "1     14M\n",
       "2    8.7M\n",
       "3     25M\n",
       "4    2.8M\n",
       "Name: Size, dtype: object"
      ]
     },
     "execution_count": 8,
     "metadata": {},
     "output_type": "execute_result"
    }
   ],
   "source": [
    "gdata1['Size'].head()"
   ]
  },
  {
   "cell_type": "code",
   "execution_count": 9,
   "metadata": {
    "colab": {
     "base_uri": "https://localhost:8080/",
     "height": 0
    },
    "colab_type": "code",
    "id": "ts8-rUakQ-st",
    "outputId": "10088050-acba-426b-a451-73d17dc586de"
   },
   "outputs": [
    {
     "name": "stderr",
     "output_type": "stream",
     "text": [
      "<ipython-input-9-56d83f83fa4f>:1: SettingWithCopyWarning: \n",
      "A value is trying to be set on a copy of a slice from a DataFrame.\n",
      "Try using .loc[row_indexer,col_indexer] = value instead\n",
      "\n",
      "See the caveats in the documentation: https://pandas.pydata.org/pandas-docs/stable/user_guide/indexing.html#returning-a-view-versus-a-copy\n",
      "  gdata1['Size_1'] = gdata1.Size.replace(['Varies with device'],[''])\n"
     ]
    },
    {
     "data": {
      "text/plain": [
       "0     19M\n",
       "1     14M\n",
       "2    8.7M\n",
       "3     25M\n",
       "4    2.8M\n",
       "Name: Size_1, dtype: object"
      ]
     },
     "execution_count": 9,
     "metadata": {},
     "output_type": "execute_result"
    }
   ],
   "source": [
    "gdata1['Size_1'] = gdata1.Size.replace(['Varies with device'],[''])\n",
    "gdata1['Size_1'].head()"
   ]
  },
  {
   "cell_type": "code",
   "execution_count": 10,
   "metadata": {
    "colab": {
     "base_uri": "https://localhost:8080/",
     "height": 0
    },
    "colab_type": "code",
    "id": "-JI2HTtSLe_G",
    "outputId": "ae1e06ef-7982-4d74-e861-f7f4ae3f53ef"
   },
   "outputs": [
    {
     "name": "stderr",
     "output_type": "stream",
     "text": [
      "<ipython-input-10-1d243f58ff1d>:1: SettingWithCopyWarning: \n",
      "A value is trying to be set on a copy of a slice from a DataFrame.\n",
      "Try using .loc[row_indexer,col_indexer] = value instead\n",
      "\n",
      "See the caveats in the documentation: https://pandas.pydata.org/pandas-docs/stable/user_guide/indexing.html#returning-a-view-versus-a-copy\n",
      "  gdata1['Size_2'] = gdata1.Size_1.replace(r'[KM]+$', '', regex=True)\n"
     ]
    },
    {
     "data": {
      "text/plain": [
       "0     19\n",
       "1     14\n",
       "2    8.7\n",
       "3     25\n",
       "4    2.8\n",
       "Name: Size_2, dtype: object"
      ]
     },
     "execution_count": 10,
     "metadata": {},
     "output_type": "execute_result"
    }
   ],
   "source": [
    "gdata1['Size_2'] = gdata1.Size_1.replace(r'[KM]+$', '', regex=True)\n",
    "gdata1['Size_2'].head()"
   ]
  },
  {
   "cell_type": "markdown",
   "metadata": {
    "colab_type": "text",
    "id": "ob16YcwEoGev"
   },
   "source": [
    "### Step 4 Substep 1 Part 2: Multiply the value by 1,000, if size is mentioned in Mb"
   ]
  },
  {
   "cell_type": "code",
   "execution_count": 11,
   "metadata": {
    "colab": {
     "base_uri": "https://localhost:8080/",
     "height": 0
    },
    "colab_type": "code",
    "id": "mOYH2VEiPDBf",
    "outputId": "5f9105c1-4e6c-4d61-9c2b-cd565cbf8c6f"
   },
   "outputs": [
    {
     "name": "stderr",
     "output_type": "stream",
     "text": [
      "<ipython-input-11-fe5639da0229>:1: SettingWithCopyWarning: \n",
      "A value is trying to be set on a copy of a slice from a DataFrame.\n",
      "Try using .loc[row_indexer,col_indexer] = value instead\n",
      "\n",
      "See the caveats in the documentation: https://pandas.pydata.org/pandas-docs/stable/user_guide/indexing.html#returning-a-view-versus-a-copy\n",
      "  gdata1['Size_3'] = gdata1.Size_1.str.extract(r'[\\d\\.]+([KM]+)', expand=False).replace(['M'], [10**3])\n"
     ]
    },
    {
     "data": {
      "text/plain": [
       "0    1000.0\n",
       "1    1000.0\n",
       "2    1000.0\n",
       "3    1000.0\n",
       "4    1000.0\n",
       "Name: Size_3, dtype: float64"
      ]
     },
     "execution_count": 11,
     "metadata": {},
     "output_type": "execute_result"
    }
   ],
   "source": [
    "gdata1['Size_3'] = gdata1.Size_1.str.extract(r'[\\d\\.]+([KM]+)', expand=False).replace(['M'], [10**3])\n",
    "gdata1['Size_3'].head()"
   ]
  },
  {
   "cell_type": "code",
   "execution_count": 12,
   "metadata": {
    "colab": {
     "base_uri": "https://localhost:8080/",
     "height": 0
    },
    "colab_type": "code",
    "id": "KYxaWb6tx9Mg",
    "outputId": "08cab3ff-3787-4da5-e62b-f50b0e75e105"
   },
   "outputs": [
    {
     "name": "stderr",
     "output_type": "stream",
     "text": [
      "<ipython-input-12-c0bfb0ff662f>:1: SettingWithCopyWarning: \n",
      "A value is trying to be set on a copy of a slice from a DataFrame.\n",
      "Try using .loc[row_indexer,col_indexer] = value instead\n",
      "\n",
      "See the caveats in the documentation: https://pandas.pydata.org/pandas-docs/stable/user_guide/indexing.html#returning-a-view-versus-a-copy\n",
      "  gdata1['Size_4'] = gdata1['Size'].astype(str).str.extract(\"([-+]?\\d*\\.\\d+|[-+]?\\d+)\").astype(float)\n"
     ]
    },
    {
     "data": {
      "text/plain": [
       "0    19.0\n",
       "1    14.0\n",
       "2     8.7\n",
       "3    25.0\n",
       "4     2.8\n",
       "Name: Size_4, dtype: float64"
      ]
     },
     "execution_count": 12,
     "metadata": {},
     "output_type": "execute_result"
    }
   ],
   "source": [
    "gdata1['Size_4'] = gdata1['Size'].astype(str).str.extract(\"([-+]?\\d*\\.\\d+|[-+]?\\d+)\").astype(float)\n",
    "gdata1['Size_4'].head()"
   ]
  },
  {
   "cell_type": "code",
   "execution_count": 13,
   "metadata": {
    "colab": {
     "base_uri": "https://localhost:8080/",
     "height": 0
    },
    "colab_type": "code",
    "id": "kd4qJHzOLXjr",
    "outputId": "d90ec3b8-188d-4c26-dcad-b4292ae2cec6"
   },
   "outputs": [
    {
     "name": "stderr",
     "output_type": "stream",
     "text": [
      "<ipython-input-13-78d8026e72e0>:1: SettingWithCopyWarning: \n",
      "A value is trying to be set on a copy of a slice from a DataFrame.\n",
      "Try using .loc[row_indexer,col_indexer] = value instead\n",
      "\n",
      "See the caveats in the documentation: https://pandas.pydata.org/pandas-docs/stable/user_guide/indexing.html#returning-a-view-versus-a-copy\n",
      "  gdata1['Size_5'] = gdata1['Size_4']*gdata1['Size_3']\n"
     ]
    },
    {
     "data": {
      "text/plain": [
       "0    19000.0\n",
       "1    14000.0\n",
       "2     8700.0\n",
       "3    25000.0\n",
       "4     2800.0\n",
       "Name: Size_5, dtype: float64"
      ]
     },
     "execution_count": 13,
     "metadata": {},
     "output_type": "execute_result"
    }
   ],
   "source": [
    "gdata1['Size_5'] = gdata1['Size_4']*gdata1['Size_3']\n",
    "gdata1['Size_5'].head()"
   ]
  },
  {
   "cell_type": "code",
   "execution_count": 14,
   "metadata": {
    "colab": {
     "base_uri": "https://localhost:8080/",
     "height": 0
    },
    "colab_type": "code",
    "id": "YzyKbrtgEiet",
    "outputId": "cf213bbc-efc0-4940-cc7e-a3fa008d40ab"
   },
   "outputs": [
    {
     "data": {
      "text/plain": [
       "1894"
      ]
     },
     "execution_count": 14,
     "metadata": {},
     "output_type": "execute_result"
    }
   ],
   "source": [
    "gdata1['Size_5'].isnull().sum()"
   ]
  },
  {
   "cell_type": "code",
   "execution_count": 15,
   "metadata": {
    "colab": {
     "base_uri": "https://localhost:8080/",
     "height": 0
    },
    "colab_type": "code",
    "id": "IpEQLXzAKCQi",
    "outputId": "4aac3ea9-f5a6-47a0-e59d-1a4dcee99306"
   },
   "outputs": [
    {
     "name": "stderr",
     "output_type": "stream",
     "text": [
      "<ipython-input-15-b01939123037>:1: SettingWithCopyWarning: \n",
      "A value is trying to be set on a copy of a slice from a DataFrame.\n",
      "Try using .loc[row_indexer,col_indexer] = value instead\n",
      "\n",
      "See the caveats in the documentation: https://pandas.pydata.org/pandas-docs/stable/user_guide/indexing.html#returning-a-view-versus-a-copy\n",
      "  gdata1['Size_5'] = gdata1['Size_5'].fillna(np.mean(gdata1['Size_5']))\n"
     ]
    }
   ],
   "source": [
    "gdata1['Size_5'] = gdata1['Size_5'].fillna(np.mean(gdata1['Size_5']))"
   ]
  },
  {
   "cell_type": "code",
   "execution_count": 16,
   "metadata": {
    "colab": {
     "base_uri": "https://localhost:8080/",
     "height": 0
    },
    "colab_type": "code",
    "id": "MupTeXfeFQVT",
    "outputId": "f0ad3cd2-3e0a-4f68-e878-e06c77abe267"
   },
   "outputs": [
    {
     "data": {
      "text/plain": [
       "0"
      ]
     },
     "execution_count": 16,
     "metadata": {},
     "output_type": "execute_result"
    }
   ],
   "source": [
    "gdata1['Size_5'].isnull().sum()"
   ]
  },
  {
   "cell_type": "markdown",
   "metadata": {
    "colab_type": "text",
    "id": "65Vj-Y0Rn5xP"
   },
   "source": [
    "### Step 4 Substep 2 : Reviews is a numeric field that is loaded as a string field. Convert it to numeric (int/float)."
   ]
  },
  {
   "cell_type": "code",
   "execution_count": 17,
   "metadata": {
    "colab": {
     "base_uri": "https://localhost:8080/",
     "height": 0
    },
    "colab_type": "code",
    "id": "xwm11zI_vMnE",
    "outputId": "fea7040d-852b-4ad5-a112-dce1395f5117"
   },
   "outputs": [
    {
     "data": {
      "text/plain": [
       "0       159\n",
       "1       967\n",
       "2     87510\n",
       "3    215644\n",
       "4       967\n",
       "Name: Reviews, dtype: object"
      ]
     },
     "execution_count": 17,
     "metadata": {},
     "output_type": "execute_result"
    }
   ],
   "source": [
    "gdata1['Reviews'].head()"
   ]
  },
  {
   "cell_type": "code",
   "execution_count": 18,
   "metadata": {
    "colab": {
     "base_uri": "https://localhost:8080/",
     "height": 0
    },
    "colab_type": "code",
    "id": "CcvsFcNUclPU",
    "outputId": "a8a3d90d-dd66-44c9-f720-361d96caf915"
   },
   "outputs": [
    {
     "name": "stderr",
     "output_type": "stream",
     "text": [
      "<ipython-input-18-eaa80f916e2f>:1: SettingWithCopyWarning: \n",
      "A value is trying to be set on a copy of a slice from a DataFrame.\n",
      "Try using .loc[row_indexer,col_indexer] = value instead\n",
      "\n",
      "See the caveats in the documentation: https://pandas.pydata.org/pandas-docs/stable/user_guide/indexing.html#returning-a-view-versus-a-copy\n",
      "  gdata1['Reviews_1'] = gdata1['Reviews'].astype(int)\n"
     ]
    },
    {
     "data": {
      "text/plain": [
       "0       159\n",
       "1       967\n",
       "2     87510\n",
       "3    215644\n",
       "4       967\n",
       "Name: Reviews_1, dtype: int32"
      ]
     },
     "execution_count": 18,
     "metadata": {},
     "output_type": "execute_result"
    }
   ],
   "source": [
    "gdata1['Reviews_1'] = gdata1['Reviews'].astype(int)\n",
    "gdata1['Reviews_1'].head()"
   ]
  },
  {
   "cell_type": "markdown",
   "metadata": {
    "colab_type": "text",
    "id": "X_xr6xY6q7aV"
   },
   "source": [
    "### Step 4 Substep 3 : Installs field is currently stored as string and has values like 1,000,000+."
   ]
  },
  {
   "cell_type": "markdown",
   "metadata": {
    "colab_type": "text",
    "id": "0MZQol6hrW-f"
   },
   "source": [
    "#### Step 4 Substep 3 Part 1 : Treat 1,000,000+ as 1,000,000"
   ]
  },
  {
   "cell_type": "code",
   "execution_count": 19,
   "metadata": {
    "colab": {
     "base_uri": "https://localhost:8080/",
     "height": 0
    },
    "colab_type": "code",
    "id": "8mQXMTqJap0L",
    "outputId": "dbe0eadf-1623-4bb2-cad5-1e07805071c1"
   },
   "outputs": [
    {
     "data": {
      "text/plain": [
       "0        10,000+\n",
       "1       500,000+\n",
       "2     5,000,000+\n",
       "3    50,000,000+\n",
       "4       100,000+\n",
       "Name: Installs, dtype: object"
      ]
     },
     "execution_count": 19,
     "metadata": {},
     "output_type": "execute_result"
    }
   ],
   "source": [
    "gdata1['Installs'].head()"
   ]
  },
  {
   "cell_type": "markdown",
   "metadata": {
    "colab_type": "text",
    "id": "dHtbU5a3rkgu"
   },
   "source": [
    "#### Step 4 Substep 3 Part 2 : remove ‘+’, ‘,’ from the field, convert it to integer"
   ]
  },
  {
   "cell_type": "code",
   "execution_count": 20,
   "metadata": {
    "colab": {
     "base_uri": "https://localhost:8080/",
     "height": 0
    },
    "colab_type": "code",
    "id": "fNc9Ll_YHo3W",
    "outputId": "a1228254-a4c2-44f2-f622-b6480d8a8992"
   },
   "outputs": [
    {
     "data": {
      "text/plain": [
       "dtype('O')"
      ]
     },
     "execution_count": 20,
     "metadata": {},
     "output_type": "execute_result"
    }
   ],
   "source": [
    "gdata1.Installs.dtype"
   ]
  },
  {
   "cell_type": "code",
   "execution_count": 21,
   "metadata": {
    "colab": {
     "base_uri": "https://localhost:8080/",
     "height": 0
    },
    "colab_type": "code",
    "id": "iIXV3F1Rrsq9",
    "outputId": "7bcda076-fdc6-44c1-96b4-cb82afc8d115"
   },
   "outputs": [
    {
     "name": "stderr",
     "output_type": "stream",
     "text": [
      "<ipython-input-21-0362b8a8424a>:1: SettingWithCopyWarning: \n",
      "A value is trying to be set on a copy of a slice from a DataFrame.\n",
      "Try using .loc[row_indexer,col_indexer] = value instead\n",
      "\n",
      "See the caveats in the documentation: https://pandas.pydata.org/pandas-docs/stable/user_guide/indexing.html#returning-a-view-versus-a-copy\n",
      "  gdata1['Installs_1'] = gdata1['Installs'].replace({'[,+]':''},regex=True)\n"
     ]
    }
   ],
   "source": [
    "gdata1['Installs_1'] = gdata1['Installs'].replace({'[,+]':''},regex=True)"
   ]
  },
  {
   "cell_type": "code",
   "execution_count": 22,
   "metadata": {
    "colab": {
     "base_uri": "https://localhost:8080/",
     "height": 0
    },
    "colab_type": "code",
    "id": "KbXH1k5C7RRO",
    "outputId": "f9b3e640-56b2-4069-ba05-464e6b4feac7"
   },
   "outputs": [
    {
     "name": "stderr",
     "output_type": "stream",
     "text": [
      "<ipython-input-22-c2247b7bc345>:1: SettingWithCopyWarning: \n",
      "A value is trying to be set on a copy of a slice from a DataFrame.\n",
      "Try using .loc[row_indexer,col_indexer] = value instead\n",
      "\n",
      "See the caveats in the documentation: https://pandas.pydata.org/pandas-docs/stable/user_guide/indexing.html#returning-a-view-versus-a-copy\n",
      "  gdata1['Installs_1'] = gdata1['Installs_1'].astype(int)\n"
     ]
    },
    {
     "data": {
      "text/plain": [
       "0       10000\n",
       "1      500000\n",
       "2     5000000\n",
       "3    50000000\n",
       "4      100000\n",
       "Name: Installs_1, dtype: int32"
      ]
     },
     "execution_count": 22,
     "metadata": {},
     "output_type": "execute_result"
    }
   ],
   "source": [
    "gdata1['Installs_1'] = gdata1['Installs_1'].astype(int)\n",
    "gdata1['Installs_1'].head()"
   ]
  },
  {
   "cell_type": "markdown",
   "metadata": {
    "colab_type": "text",
    "id": "QbYTkeOBruE2"
   },
   "source": [
    "#### Step 4 Substep 4 : Price field is a string and has $ symbol. Remove ‘$’ sign, and convert it to numeric."
   ]
  },
  {
   "cell_type": "code",
   "execution_count": 23,
   "metadata": {
    "colab": {
     "base_uri": "https://localhost:8080/",
     "height": 0
    },
    "colab_type": "code",
    "id": "rwCF2SmKY_5P",
    "outputId": "c8077086-e1ee-4e0b-e7a0-666bca900088"
   },
   "outputs": [
    {
     "data": {
      "text/plain": [
       "232        0\n",
       "233        0\n",
       "234    $4.99\n",
       "235    $4.99\n",
       "Name: Price, dtype: object"
      ]
     },
     "execution_count": 23,
     "metadata": {},
     "output_type": "execute_result"
    }
   ],
   "source": [
    "gdata1['Price'][220:224]"
   ]
  },
  {
   "cell_type": "code",
   "execution_count": 24,
   "metadata": {
    "colab": {
     "base_uri": "https://localhost:8080/",
     "height": 0
    },
    "colab_type": "code",
    "id": "QpfcgHo7Yynu",
    "outputId": "26773023-6acc-41b1-b1e9-5d41646a46a1"
   },
   "outputs": [
    {
     "data": {
      "text/plain": [
       "pandas.core.series.Series"
      ]
     },
     "execution_count": 24,
     "metadata": {},
     "output_type": "execute_result"
    }
   ],
   "source": [
    "type(gdata1['Price'])"
   ]
  },
  {
   "cell_type": "code",
   "execution_count": 25,
   "metadata": {
    "colab": {
     "base_uri": "https://localhost:8080/",
     "height": 0
    },
    "colab_type": "code",
    "id": "iiN_FjFOsWKq",
    "outputId": "bebb4c1f-5157-4737-f726-81cb47c9e239"
   },
   "outputs": [
    {
     "name": "stderr",
     "output_type": "stream",
     "text": [
      "<ipython-input-25-88b29b379534>:1: SettingWithCopyWarning: \n",
      "A value is trying to be set on a copy of a slice from a DataFrame.\n",
      "Try using .loc[row_indexer,col_indexer] = value instead\n",
      "\n",
      "See the caveats in the documentation: https://pandas.pydata.org/pandas-docs/stable/user_guide/indexing.html#returning-a-view-versus-a-copy\n",
      "  gdata1['Price_1'] = gdata1['Price'].astype(str).str.extract(\"([-+]?\\d*\\.\\d+|[-+]?\\d+)$\").astype(float)\n"
     ]
    },
    {
     "data": {
      "text/plain": [
       "232    0.00\n",
       "233    0.00\n",
       "234    4.99\n",
       "235    4.99\n",
       "Name: Price_1, dtype: float64"
      ]
     },
     "execution_count": 25,
     "metadata": {},
     "output_type": "execute_result"
    }
   ],
   "source": [
    "gdata1['Price_1'] = gdata1['Price'].astype(str).str.extract(\"([-+]?\\d*\\.\\d+|[-+]?\\d+)$\").astype(float)\n",
    "gdata1['Price_1'][220:224]"
   ]
  },
  {
   "cell_type": "markdown",
   "metadata": {
    "colab_type": "text",
    "id": "WsAOGStUr3sM"
   },
   "source": [
    "### Step 4 Substep 5 : Sanity checks:"
   ]
  },
  {
   "cell_type": "markdown",
   "metadata": {
    "colab_type": "text",
    "id": "A041SFF-sdmf"
   },
   "source": [
    "#### Step 4 Substep 5 Part 1 : Average rating should be between 1 and 5 as only these values are allowed on the play store. Drop the rows that have a value outside this range."
   ]
  },
  {
   "cell_type": "code",
   "execution_count": 26,
   "metadata": {
    "colab": {
     "base_uri": "https://localhost:8080/",
     "height": 0
    },
    "colab_type": "code",
    "id": "EC-wXtkLsk6i",
    "outputId": "ba36d5ca-bd03-4fc6-c619-05986d3c65b9"
   },
   "outputs": [
    {
     "data": {
      "text/plain": [
       "5.0"
      ]
     },
     "execution_count": 26,
     "metadata": {},
     "output_type": "execute_result"
    }
   ],
   "source": [
    "max(gdata1['Rating'])"
   ]
  },
  {
   "cell_type": "code",
   "execution_count": 27,
   "metadata": {
    "colab": {
     "base_uri": "https://localhost:8080/",
     "height": 0
    },
    "colab_type": "code",
    "id": "-I-Q4Qwx3Oqr",
    "outputId": "73be367b-3b42-4bd4-80ba-8447d860a9ca"
   },
   "outputs": [
    {
     "data": {
      "text/plain": [
       "1.0"
      ]
     },
     "execution_count": 27,
     "metadata": {},
     "output_type": "execute_result"
    }
   ],
   "source": [
    "min(gdata1['Rating'])"
   ]
  },
  {
   "cell_type": "markdown",
   "metadata": {
    "colab_type": "text",
    "id": "2lqErcMQsmF_"
   },
   "source": [
    "#### Step 4 Substep 5 Part 2 : Reviews should not be more than installs as only those who installed can review the app. If there are any such records, drop them."
   ]
  },
  {
   "cell_type": "code",
   "execution_count": 28,
   "metadata": {
    "colab": {
     "base_uri": "https://localhost:8080/",
     "height": 0
    },
    "colab_type": "code",
    "id": "XJxflufxssWG",
    "outputId": "a4c20fa1-3fd2-49c3-873a-a80a39561b87"
   },
   "outputs": [
    {
     "data": {
      "text/plain": [
       "0       159\n",
       "1       967\n",
       "2     87510\n",
       "3    215644\n",
       "4       967\n",
       "Name: Reviews_1, dtype: int32"
      ]
     },
     "execution_count": 28,
     "metadata": {},
     "output_type": "execute_result"
    }
   ],
   "source": [
    "gdata1['Reviews_1'].head()"
   ]
  },
  {
   "cell_type": "code",
   "execution_count": 29,
   "metadata": {
    "colab": {
     "base_uri": "https://localhost:8080/",
     "height": 0
    },
    "colab_type": "code",
    "id": "ktIb_TS9YRMe",
    "outputId": "763fdc0b-bbea-4f6b-988f-e809698ebf89"
   },
   "outputs": [
    {
     "data": {
      "text/plain": [
       "0       10000\n",
       "1      500000\n",
       "2     5000000\n",
       "3    50000000\n",
       "4      100000\n",
       "Name: Installs_1, dtype: int32"
      ]
     },
     "execution_count": 29,
     "metadata": {},
     "output_type": "execute_result"
    }
   ],
   "source": [
    "gdata1['Installs_1'].head()"
   ]
  },
  {
   "cell_type": "code",
   "execution_count": 30,
   "metadata": {
    "colab": {
     "base_uri": "https://localhost:8080/",
     "height": 0
    },
    "colab_type": "code",
    "id": "PaWPUOodYzS7",
    "outputId": "c00866ff-e8f3-4b8f-fd84-1f6ebc8ce52c"
   },
   "outputs": [
    {
     "name": "stderr",
     "output_type": "stream",
     "text": [
      "<ipython-input-30-90b759d6361b>:1: SettingWithCopyWarning: \n",
      "A value is trying to be set on a copy of a slice from a DataFrame.\n",
      "Try using .loc[row_indexer,col_indexer] = value instead\n",
      "\n",
      "See the caveats in the documentation: https://pandas.pydata.org/pandas-docs/stable/user_guide/indexing.html#returning-a-view-versus-a-copy\n",
      "  gdata1['rgti'] = gdata1['Reviews_1']>gdata1['Installs_1']\n"
     ]
    },
    {
     "data": {
      "text/plain": [
       "0    False\n",
       "1    False\n",
       "2    False\n",
       "3    False\n",
       "4    False\n",
       "Name: rgti, dtype: bool"
      ]
     },
     "execution_count": 30,
     "metadata": {},
     "output_type": "execute_result"
    }
   ],
   "source": [
    "gdata1['rgti'] = gdata1['Reviews_1']>gdata1['Installs_1']\n",
    "gdata1['rgti'].head()"
   ]
  },
  {
   "cell_type": "code",
   "execution_count": 31,
   "metadata": {
    "colab": {
     "base_uri": "https://localhost:8080/",
     "height": 0
    },
    "colab_type": "code",
    "id": "Imk4rp5ikea8",
    "outputId": "e29c240f-e02d-4862-cfd2-f6b41566a0f1"
   },
   "outputs": [
    {
     "data": {
      "text/plain": [
       "Int64Index([2454, 4663, 5917, 6700, 7402, 8591, 10697], dtype='int64')"
      ]
     },
     "execution_count": 31,
     "metadata": {},
     "output_type": "execute_result"
    }
   ],
   "source": [
    "gdata1.rgti[gdata1.rgti].index"
   ]
  },
  {
   "cell_type": "code",
   "execution_count": 32,
   "metadata": {
    "colab": {
     "base_uri": "https://localhost:8080/",
     "height": 0
    },
    "colab_type": "code",
    "id": "Yt0DQBVJlbG0",
    "outputId": "8cfec900-4caa-40c1-bbab-a622e13b1425"
   },
   "outputs": [
    {
     "data": {
      "text/plain": [
       "App               Brick Breaker BR\n",
       "Category                      GAME\n",
       "Rating                         5.0\n",
       "Reviews                          7\n",
       "Size                           19M\n",
       "Installs                        5+\n",
       "Type                          Free\n",
       "Price                            0\n",
       "Content Rating            Everyone\n",
       "Genres                      Arcade\n",
       "Last Updated         July 23, 2018\n",
       "Current Ver                    1.0\n",
       "Android Ver             4.1 and up\n",
       "Size_1                         19M\n",
       "Size_2                          19\n",
       "Size_3                      1000.0\n",
       "Size_4                        19.0\n",
       "Size_5                     19000.0\n",
       "Reviews_1                        7\n",
       "Installs_1                       5\n",
       "Price_1                        0.0\n",
       "rgti                          True\n",
       "Name: 6700, dtype: object"
      ]
     },
     "execution_count": 32,
     "metadata": {},
     "output_type": "execute_result"
    }
   ],
   "source": [
    "gdata1.loc[6700]"
   ]
  },
  {
   "cell_type": "code",
   "execution_count": 33,
   "metadata": {
    "colab": {
     "base_uri": "https://localhost:8080/",
     "height": 0
    },
    "colab_type": "code",
    "id": "e8sd5jX_p9Xk",
    "outputId": "ae07b8fa-0c2c-48c8-b86c-ff6795cb0751"
   },
   "outputs": [
    {
     "data": {
      "text/plain": [
       "Int64Index([], dtype='int64')"
      ]
     },
     "execution_count": 33,
     "metadata": {},
     "output_type": "execute_result"
    }
   ],
   "source": [
    "gdata2 = gdata1.drop([2454, 4663, 5917, 6700, 7402, 8591, 10697])\n",
    "gdata2.rgti[gdata2.rgti].index"
   ]
  },
  {
   "cell_type": "markdown",
   "metadata": {
    "colab_type": "text",
    "id": "ebnPjQ0rstbT"
   },
   "source": [
    "#### Step 4 Substep 5 Part 3 : For free apps (type = “Free”), the price should not be >0. Drop any such rows."
   ]
  },
  {
   "cell_type": "code",
   "execution_count": 34,
   "metadata": {
    "colab": {},
    "colab_type": "code",
    "id": "MZmFE9rubQXb"
   },
   "outputs": [],
   "source": [
    "gdata3 = gdata2[gdata2['Type'] == 'Free']"
   ]
  },
  {
   "cell_type": "code",
   "execution_count": 35,
   "metadata": {
    "colab": {
     "base_uri": "https://localhost:8080/",
     "height": 0
    },
    "colab_type": "code",
    "id": "Lwny9-12b9aF",
    "outputId": "d322a6f5-264d-42f6-d72a-c8a99f87d67b"
   },
   "outputs": [
    {
     "name": "stderr",
     "output_type": "stream",
     "text": [
      "<ipython-input-35-a88d5396de22>:1: SettingWithCopyWarning: \n",
      "A value is trying to be set on a copy of a slice from a DataFrame.\n",
      "Try using .loc[row_indexer,col_indexer] = value instead\n",
      "\n",
      "See the caveats in the documentation: https://pandas.pydata.org/pandas-docs/stable/user_guide/indexing.html#returning-a-view-versus-a-copy\n",
      "  gdata3['Price_1'] = gdata3['Price'].astype(int)\n"
     ]
    }
   ],
   "source": [
    "gdata3['Price_1'] = gdata3['Price'].astype(int)"
   ]
  },
  {
   "cell_type": "code",
   "execution_count": 36,
   "metadata": {
    "colab": {
     "base_uri": "https://localhost:8080/",
     "height": 0
    },
    "colab_type": "code",
    "id": "4VwKKNtjctRx",
    "outputId": "e8c337ac-a293-43db-8457-b0b4c98ad897"
   },
   "outputs": [
    {
     "name": "stderr",
     "output_type": "stream",
     "text": [
      "<ipython-input-36-98ce50919975>:1: SettingWithCopyWarning: \n",
      "A value is trying to be set on a copy of a slice from a DataFrame.\n",
      "Try using .loc[row_indexer,col_indexer] = value instead\n",
      "\n",
      "See the caveats in the documentation: https://pandas.pydata.org/pandas-docs/stable/user_guide/indexing.html#returning-a-view-versus-a-copy\n",
      "  gdata3['FPrice'] = gdata3['Price_1'] > 0\n"
     ]
    },
    {
     "data": {
      "text/plain": [
       "Int64Index([], dtype='int64')"
      ]
     },
     "execution_count": 36,
     "metadata": {},
     "output_type": "execute_result"
    }
   ],
   "source": [
    "gdata3['FPrice'] = gdata3['Price_1'] > 0\n",
    "gdata3.FPrice[gdata3.FPrice].index"
   ]
  },
  {
   "cell_type": "markdown",
   "metadata": {
    "colab_type": "text",
    "id": "6gvxKz8sds_I"
   },
   "source": [
    "There are no rows where the price is more than 0 for free apps"
   ]
  },
  {
   "cell_type": "markdown",
   "metadata": {
    "colab_type": "text",
    "id": "4NdH-pzPs0Ro"
   },
   "source": [
    "## Step 5 : Performing univariate analysis:"
   ]
  },
  {
   "cell_type": "markdown",
   "metadata": {
    "colab_type": "text",
    "id": "JFgEQap9tdaO"
   },
   "source": [
    "### Step 5 Check 1 : Boxplot for Price"
   ]
  },
  {
   "cell_type": "code",
   "execution_count": 37,
   "metadata": {
    "colab": {},
    "colab_type": "code",
    "id": "xFafRlLL9fL5"
   },
   "outputs": [],
   "source": [
    "sns.set(style=\"whitegrid\")"
   ]
  },
  {
   "cell_type": "code",
   "execution_count": 38,
   "metadata": {
    "colab": {
     "base_uri": "https://localhost:8080/",
     "height": 0
    },
    "colab_type": "code",
    "id": "BdNWDhF596Vu",
    "outputId": "608b4fac-80e1-497b-f962-24e6b23eba54"
   },
   "outputs": [
    {
     "data": {
      "text/plain": [
       "<AxesSubplot:xlabel='Price_1'>"
      ]
     },
     "execution_count": 38,
     "metadata": {},
     "output_type": "execute_result"
    },
    {
     "data": {
      "image/png": "[encoded data removed]",
      "text/plain": [
       "<Figure size 432x288 with 1 Axes>"
      ]
     },
     "metadata": {},
     "output_type": "display_data"
    }
   ],
   "source": [
    "sns.boxplot(x=gdata2[\"Price_1\"])"
   ]
  },
  {
   "cell_type": "markdown",
   "metadata": {
    "colab_type": "text",
    "id": "1iRvL1FMeVjA"
   },
   "source": [
    "### Step 5 Check 2 : Are there any outliers? Think about the price of usual apps on Play Store."
   ]
  },
  {
   "cell_type": "markdown",
   "metadata": {
    "colab_type": "text",
    "id": "9JqnCIFOefIO"
   },
   "source": [
    "### Step 5 Check 3 : Boxplot for Reviews"
   ]
  },
  {
   "cell_type": "code",
   "execution_count": 39,
   "metadata": {
    "colab": {
     "base_uri": "https://localhost:8080/",
     "height": 0
    },
    "colab_type": "code",
    "id": "Vd-wVzvvetSC",
    "outputId": "caf5858a-859f-493d-9b44-7a61abd0671c"
   },
   "outputs": [
    {
     "data": {
      "text/plain": [
       "<AxesSubplot:xlabel='Reviews_1'>"
      ]
     },
     "execution_count": 39,
     "metadata": {},
     "output_type": "execute_result"
    },
    {
     "data": {
      "image/png": "[encoded data removed]",
      "text/plain": [
       "<Figure size 432x288 with 1 Axes>"
      ]
     },
     "metadata": {},
     "output_type": "display_data"
    }
   ],
   "source": [
    "sns.boxplot(x=gdata2[\"Reviews_1\"])"
   ]
  },
  {
   "cell_type": "markdown",
   "metadata": {
    "colab_type": "text",
    "id": "lTJnhgzYeueY"
   },
   "source": [
    "### Step 5 Check 4 : Are there any apps with very high number of reviews? Do the values seem right?"
   ]
  },
  {
   "cell_type": "code",
   "execution_count": 40,
   "metadata": {
    "colab": {},
    "colab_type": "code",
    "id": "lRDZr11Hez2M"
   },
   "outputs": [
    {
     "data": {
      "text/plain": [
       "78158306"
      ]
     },
     "execution_count": 40,
     "metadata": {},
     "output_type": "execute_result"
    }
   ],
   "source": [
    "max(gdata2.Reviews_1)"
   ]
  },
  {
   "cell_type": "code",
   "execution_count": 41,
   "metadata": {},
   "outputs": [
    {
     "data": {
      "text/plain": [
       "Reviews_1    2544\n",
       "dtype: int64"
      ]
     },
     "execution_count": 41,
     "metadata": {},
     "output_type": "execute_result"
    }
   ],
   "source": [
    "gdata2[['Reviews_1']].idxmax()"
   ]
  },
  {
   "cell_type": "code",
   "execution_count": 42,
   "metadata": {},
   "outputs": [
    {
     "data": {
      "text/plain": [
       "App                         Facebook\n",
       "Category                      SOCIAL\n",
       "Rating                           4.1\n",
       "Reviews                     78158306\n",
       "Size              Varies with device\n",
       "Installs              1,000,000,000+\n",
       "Type                            Free\n",
       "Price                              0\n",
       "Content Rating                  Teen\n",
       "Genres                        Social\n",
       "Last Updated          August 3, 2018\n",
       "Current Ver       Varies with device\n",
       "Android Ver       Varies with device\n",
       "Size_1                              \n",
       "Size_2                              \n",
       "Size_3                           NaN\n",
       "Size_4                           NaN\n",
       "Size_5                  23746.316635\n",
       "Reviews_1                   78158306\n",
       "Installs_1                1000000000\n",
       "Price_1                          0.0\n",
       "rgti                           False\n",
       "Name: 2544, dtype: object"
      ]
     },
     "execution_count": 42,
     "metadata": {},
     "output_type": "execute_result"
    }
   ],
   "source": [
    "gdata2.loc[2544]"
   ]
  },
  {
   "cell_type": "markdown",
   "metadata": {},
   "source": [
    "The highest reviews seem to be of Facebook app, which is widely used across all age groups and domains, so they seem to be right."
   ]
  },
  {
   "cell_type": "markdown",
   "metadata": {
    "colab_type": "text",
    "id": "7mKgDMy3e0tr"
   },
   "source": [
    "### Step 5 Check 5 : Histogram for Rating"
   ]
  },
  {
   "cell_type": "code",
   "execution_count": 43,
   "metadata": {
    "colab": {
     "base_uri": "https://localhost:8080/",
     "height": 0
    },
    "colab_type": "code",
    "id": "xdnyBnGVfYew",
    "outputId": "f94ee9fe-4c38-47e9-aa06-2ad94d5b5a41"
   },
   "outputs": [
    {
     "data": {
      "text/plain": [
       "(array([  17.,   18.,   41.,   74.,  137.,  445.,  879., 1660., 4172.,\n",
       "        1910.]),\n",
       " array([1. , 1.4, 1.8, 2.2, 2.6, 3. , 3.4, 3.8, 4.2, 4.6, 5. ]),\n",
       " <BarContainer object of 10 artists>)"
      ]
     },
     "execution_count": 43,
     "metadata": {},
     "output_type": "execute_result"
    },
    {
     "data": {
      "image/png": "[encoded data removed]",
      "text/plain": [
       "<Figure size 432x288 with 1 Axes>"
      ]
     },
     "metadata": {},
     "output_type": "display_data"
    }
   ],
   "source": [
    "plt.hist(gdata2['Rating'])"
   ]
  },
  {
   "cell_type": "markdown",
   "metadata": {
    "colab_type": "text",
    "id": "n65J69bbfZWS"
   },
   "source": [
    "### Step 5 Check 6 : How are the ratings distributed? Is it more toward higher ratings?"
   ]
  },
  {
   "cell_type": "markdown",
   "metadata": {
    "colab_type": "text",
    "id": "nFIrF97Wfgpw"
   },
   "source": [
    "Ratings are more toward higher ratingss, but peak at 4.5"
   ]
  },
  {
   "cell_type": "markdown",
   "metadata": {
    "colab_type": "text",
    "id": "XzQekYfpfhnC"
   },
   "source": [
    "### Step 5 Check 7 : Histogram for Size"
   ]
  },
  {
   "cell_type": "code",
   "execution_count": 44,
   "metadata": {
    "colab": {
     "base_uri": "https://localhost:8080/",
     "height": 0
    },
    "colab_type": "code",
    "id": "b2KqnhsOfnc2",
    "outputId": "2a1f5fdb-808f-4de1-84d5-425937742132"
   },
   "outputs": [
    {
     "data": {
      "text/plain": [
       "(array([2988., 1398., 2884.,  606.,  449.,  325.,  226.,  161.,  117.,\n",
       "         199.]),\n",
       " array([  1000.,  10900.,  20800.,  30700.,  40600.,  50500.,  60400.,\n",
       "         70300.,  80200.,  90100., 100000.]),\n",
       " <BarContainer object of 10 artists>)"
      ]
     },
     "execution_count": 44,
     "metadata": {},
     "output_type": "execute_result"
    },
    {
     "data": {
      "image/png": "[encoded data removed]",
      "text/plain": [
       "<Figure size 432x288 with 1 Axes>"
      ]
     },
     "metadata": {},
     "output_type": "display_data"
    }
   ],
   "source": [
    "plt.hist(gdata2['Size_5'])"
   ]
  },
  {
   "cell_type": "markdown",
   "metadata": {
    "colab_type": "text",
    "id": "y9qlnSVHfoJf"
   },
   "source": [
    "## Step 6 : Outlier treatment:"
   ]
  },
  {
   "cell_type": "markdown",
   "metadata": {
    "colab_type": "text",
    "id": "YNOuk9LWgpcn"
   },
   "source": [
    "### Step 6 Substep 1 : 1.\tPrice: From the box plot, it seems like there are some apps with very high price. A price of $200 for an application on the Play Store is very high and suspicious!"
   ]
  },
  {
   "cell_type": "markdown",
   "metadata": {
    "colab_type": "text",
    "id": "vOaJEAY-gtUo"
   },
   "source": [
    "#### Step 6 Substep 1 Part 1 : Check out the records with very high price. Is 200 indeed a high price?"
   ]
  },
  {
   "cell_type": "markdown",
   "metadata": {
    "colab_type": "text",
    "id": "7OipC6vOhC52"
   },
   "source": [
    "#### Step 6 Substep 1 Part 2 : Drop these as most seem to be junk apps"
   ]
  },
  {
   "cell_type": "code",
   "execution_count": 45,
   "metadata": {
    "colab": {
     "base_uri": "https://localhost:8080/",
     "height": 0
    },
    "colab_type": "code",
    "id": "loiRFvWWLepG",
    "outputId": "00992b1c-d5d6-40c9-8217-c96608ef58b0"
   },
   "outputs": [
    {
     "data": {
      "text/plain": [
       "400.0"
      ]
     },
     "execution_count": 45,
     "metadata": {},
     "output_type": "execute_result"
    }
   ],
   "source": [
    "max(gdata2['Price_1'])"
   ]
  },
  {
   "cell_type": "code",
   "execution_count": 46,
   "metadata": {
    "colab": {},
    "colab_type": "code",
    "id": "1Z-WEQxOhNQF"
   },
   "outputs": [],
   "source": [
    "gdata3 = gdata2[gdata2['Price_1'] <= 200.00 ]"
   ]
  },
  {
   "cell_type": "code",
   "execution_count": 47,
   "metadata": {
    "colab": {
     "base_uri": "https://localhost:8080/",
     "height": 0
    },
    "colab_type": "code",
    "id": "BZv0yuG4wITK",
    "outputId": "41f8da89-8931-4630-e9bf-29a8ed3a7161"
   },
   "outputs": [
    {
     "data": {
      "text/plain": [
       "79.99"
      ]
     },
     "execution_count": 47,
     "metadata": {},
     "output_type": "execute_result"
    }
   ],
   "source": [
    "max(gdata3['Price_1'])"
   ]
  },
  {
   "cell_type": "markdown",
   "metadata": {
    "colab_type": "text",
    "id": "nHyeZ60RhOV6"
   },
   "source": [
    "### Step 6 Substep 2 : Reviews: Very few apps have very high number of reviews. These are all star apps that don’t help with the analysis and, in fact, will skew it. Drop records having more than 2 million reviews."
   ]
  },
  {
   "cell_type": "code",
   "execution_count": 48,
   "metadata": {
    "colab": {
     "base_uri": "https://localhost:8080/",
     "height": 0
    },
    "colab_type": "code",
    "id": "0dl3wcEpwnyu",
    "outputId": "f63bce4c-e8fa-4781-c6f3-80522641f100"
   },
   "outputs": [
    {
     "data": {
      "text/plain": [
       "78158306"
      ]
     },
     "execution_count": 48,
     "metadata": {},
     "output_type": "execute_result"
    }
   ],
   "source": [
    "max(gdata3['Reviews_1'])"
   ]
  },
  {
   "cell_type": "code",
   "execution_count": 49,
   "metadata": {
    "colab": {},
    "colab_type": "code",
    "id": "130bYWcchYX0"
   },
   "outputs": [],
   "source": [
    "gdata4 = gdata3[gdata3['Reviews_1'] < 2000000]"
   ]
  },
  {
   "cell_type": "code",
   "execution_count": 50,
   "metadata": {
    "colab": {
     "base_uri": "https://localhost:8080/",
     "height": 0
    },
    "colab_type": "code",
    "id": "1qiZ5eCnxEp1",
    "outputId": "fa11116e-1f55-4f42-ed84-de77ef89c796"
   },
   "outputs": [
    {
     "data": {
      "text/plain": [
       "1986068"
      ]
     },
     "execution_count": 50,
     "metadata": {},
     "output_type": "execute_result"
    }
   ],
   "source": [
    "max(gdata4['Reviews_1'])"
   ]
  },
  {
   "cell_type": "markdown",
   "metadata": {
    "colab_type": "text",
    "id": "kunAnXMXhZXR"
   },
   "source": [
    "### Step 6 Substep 3 : Installs:  There seems to be some outliers in this field too. Apps having very high number of installs should be dropped from the analysis."
   ]
  },
  {
   "cell_type": "markdown",
   "metadata": {
    "colab_type": "text",
    "id": "kLF0Z7iihoM6"
   },
   "source": [
    "#### Step 6 Substep 3 Part 1 : Find out the different percentiles – 10, 25, 50, 70, 90, 95, 99"
   ]
  },
  {
   "cell_type": "code",
   "execution_count": 51,
   "metadata": {
    "colab": {
     "base_uri": "https://localhost:8080/",
     "height": 0
    },
    "colab_type": "code",
    "id": "yUFzY9UnhvVy",
    "outputId": "f309a1fb-2923-4e2d-ec08-c623eb5a0367"
   },
   "outputs": [
    {
     "name": "stdout",
     "output_type": "stream",
     "text": [
      "10th Percentile\n",
      " 1000.0\n"
     ]
    }
   ],
   "source": [
    "print(\"10th Percentile\\n\", np.percentile(gdata4['Installs_1'],q=10))"
   ]
  },
  {
   "cell_type": "code",
   "execution_count": 52,
   "metadata": {
    "colab": {
     "base_uri": "https://localhost:8080/",
     "height": 0
    },
    "colab_type": "code",
    "id": "9zPozK-bd2ns",
    "outputId": "90f0e5cc-bfef-442f-c1a9-328792e3e423"
   },
   "outputs": [
    {
     "name": "stdout",
     "output_type": "stream",
     "text": [
      "25th Percentile\n",
      " 10000.0\n"
     ]
    }
   ],
   "source": [
    "print(\"25th Percentile\\n\", np.percentile(gdata4['Installs_1'],q=25))"
   ]
  },
  {
   "cell_type": "code",
   "execution_count": 53,
   "metadata": {
    "colab": {
     "base_uri": "https://localhost:8080/",
     "height": 0
    },
    "colab_type": "code",
    "id": "NRSDgISDd4cU",
    "outputId": "d980f7c8-9465-4ee4-b625-0a212e944b2c"
   },
   "outputs": [
    {
     "name": "stdout",
     "output_type": "stream",
     "text": [
      "50th Percentile\n",
      " 500000.0\n"
     ]
    }
   ],
   "source": [
    "print(\"50th Percentile\\n\", np.percentile(gdata4['Installs_1'],q=50))"
   ]
  },
  {
   "cell_type": "code",
   "execution_count": 54,
   "metadata": {
    "colab": {
     "base_uri": "https://localhost:8080/",
     "height": 0
    },
    "colab_type": "code",
    "id": "rJwCn1NId4yV",
    "outputId": "bee24d28-838d-4398-8211-81189e2146cc"
   },
   "outputs": [
    {
     "name": "stdout",
     "output_type": "stream",
     "text": [
      "70th Percentile\n",
      " 1000000.0\n"
     ]
    }
   ],
   "source": [
    "print(\"70th Percentile\\n\", np.percentile(gdata4['Installs_1'],q=70))"
   ]
  },
  {
   "cell_type": "code",
   "execution_count": 55,
   "metadata": {
    "colab": {
     "base_uri": "https://localhost:8080/",
     "height": 0
    },
    "colab_type": "code",
    "id": "pCCO4biNd5FF",
    "outputId": "8dd52043-0e06-45a5-9cd0-281e947d8280"
   },
   "outputs": [
    {
     "name": "stdout",
     "output_type": "stream",
     "text": [
      "90th Percentile\n",
      " 10000000.0\n"
     ]
    }
   ],
   "source": [
    "print(\"90th Percentile\\n\", np.percentile(gdata4['Installs_1'],q=90))"
   ]
  },
  {
   "cell_type": "code",
   "execution_count": 56,
   "metadata": {
    "colab": {
     "base_uri": "https://localhost:8080/",
     "height": 0
    },
    "colab_type": "code",
    "id": "6TODPERyd5g8",
    "outputId": "90c47c2c-faa1-43aa-f3c7-cb1ceefcbeae"
   },
   "outputs": [
    {
     "name": "stdout",
     "output_type": "stream",
     "text": [
      "95th Percentile\n",
      " 10000000.0\n"
     ]
    }
   ],
   "source": [
    "print(\"95th Percentile\\n\", np.percentile(gdata4['Installs_1'],q=95))"
   ]
  },
  {
   "cell_type": "code",
   "execution_count": 57,
   "metadata": {
    "colab": {
     "base_uri": "https://localhost:8080/",
     "height": 0
    },
    "colab_type": "code",
    "id": "PcJqbiEQd4pW",
    "outputId": "2b456010-18f8-4265-e89a-17882f5acfdc"
   },
   "outputs": [
    {
     "name": "stdout",
     "output_type": "stream",
     "text": [
      "99th Percentile\n",
      " 100000000.0\n"
     ]
    }
   ],
   "source": [
    "print(\"99th Percentile\\n\", np.percentile(gdata4['Installs_1'],q=99))"
   ]
  },
  {
   "cell_type": "markdown",
   "metadata": {
    "colab_type": "text",
    "id": "2n2bDxSgh0EK"
   },
   "source": [
    "#### Step 6 Substep 3 Part 2 : Decide a threshold as cutoff for outlier and drop records having values more than that"
   ]
  },
  {
   "cell_type": "code",
   "execution_count": 58,
   "metadata": {
    "colab": {
     "base_uri": "https://localhost:8080/",
     "height": 0
    },
    "colab_type": "code",
    "id": "42YGZdr5hkav",
    "outputId": "98e032ff-99bb-43e3-945f-22c53a263e8d"
   },
   "outputs": [
    {
     "data": {
      "text/plain": [
       "1000000000"
      ]
     },
     "execution_count": 58,
     "metadata": {},
     "output_type": "execute_result"
    }
   ],
   "source": [
    "max(gdata4['Installs_1'])"
   ]
  },
  {
   "cell_type": "code",
   "execution_count": 59,
   "metadata": {
    "colab": {},
    "colab_type": "code",
    "id": "1X2nUAtDxqdP"
   },
   "outputs": [],
   "source": [
    "gdata5 = gdata4[gdata4['Installs_1'] <= 1000000] #70th percentile"
   ]
  },
  {
   "cell_type": "code",
   "execution_count": 60,
   "metadata": {
    "colab": {
     "base_uri": "https://localhost:8080/",
     "height": 0
    },
    "colab_type": "code",
    "id": "kyz4nqg1xrcV",
    "outputId": "8e54ae3d-c6f1-42cd-9e5d-e1537baf99d3"
   },
   "outputs": [
    {
     "data": {
      "text/plain": [
       "1000000"
      ]
     },
     "execution_count": 60,
     "metadata": {},
     "output_type": "execute_result"
    }
   ],
   "source": [
    "max(gdata5['Installs_1'])"
   ]
  },
  {
   "cell_type": "markdown",
   "metadata": {
    "colab_type": "text",
    "id": "zP6FLMVSh9oN"
   },
   "source": [
    "## Step 7 : Bivariate analysis: Let’s look at how the available predictors relate to the variable of interest, i.e., our target variable rating. Make scatter plots (for numeric features) and box plots (for character features) to assess the relations between rating and the other features."
   ]
  },
  {
   "cell_type": "markdown",
   "metadata": {
    "colab_type": "text",
    "id": "E4O-U9t5iG4g"
   },
   "source": [
    "### Step 7 Check 1 : Make scatter plot/joinplot for Rating vs. Price. What pattern do you observe? Does rating increase with price?"
   ]
  },
  {
   "cell_type": "code",
   "execution_count": 61,
   "metadata": {
    "colab": {
     "base_uri": "https://localhost:8080/",
     "height": 0
    },
    "colab_type": "code",
    "id": "v0IghUKMiUvR",
    "outputId": "b4a746cd-45c9-40f7-acdd-773162bae774"
   },
   "outputs": [
    {
     "data": {
      "text/plain": [
       "<matplotlib.collections.PathCollection at 0x1d7fb683490>"
      ]
     },
     "execution_count": 61,
     "metadata": {},
     "output_type": "execute_result"
    },
    {
     "data": {
      "image/png": "[encoded data removed]",
      "text/plain": [
       "<Figure size 432x288 with 1 Axes>"
      ]
     },
     "metadata": {},
     "output_type": "display_data"
    }
   ],
   "source": [
    "plt.scatter(x = gdata5['Rating'],y = gdata5['Price_1'])"
   ]
  },
  {
   "cell_type": "markdown",
   "metadata": {},
   "source": [
    "From the aabove scatter plot, ratings seem to increase with price."
   ]
  },
  {
   "cell_type": "markdown",
   "metadata": {
    "colab_type": "text",
    "id": "Nlg1j1zEiVtz"
   },
   "source": [
    "### Step 7 Check 2 : Make scatter plot/joinplot for Rating vs. Size. Are heavier apps rated better?"
   ]
  },
  {
   "cell_type": "code",
   "execution_count": 62,
   "metadata": {
    "colab": {
     "base_uri": "https://localhost:8080/",
     "height": 0
    },
    "colab_type": "code",
    "id": "P2OpmcGliiIa",
    "outputId": "1279d162-6f27-4675-9187-e09031aae7ee"
   },
   "outputs": [
    {
     "data": {
      "text/plain": [
       "<matplotlib.collections.PathCollection at 0x1d7f92504c0>"
      ]
     },
     "execution_count": 62,
     "metadata": {},
     "output_type": "execute_result"
    },
    {
     "data": {
      "image/png": "[encoded data removed]",
      "text/plain": [
       "<Figure size 432x288 with 1 Axes>"
      ]
     },
     "metadata": {},
     "output_type": "display_data"
    }
   ],
   "source": [
    "plt.scatter(x = gdata5['Rating'],y = gdata5['Size_5'])"
   ]
  },
  {
   "cell_type": "markdown",
   "metadata": {},
   "source": [
    "Heavier apps seem to have a higher rating than lighter apps, but there are some lighter apps which have higher rating."
   ]
  },
  {
   "cell_type": "markdown",
   "metadata": {
    "colab_type": "text",
    "id": "a63fcqV7ii8s"
   },
   "source": [
    "### Step 7 Check 3 : Make scatter plot/joinplot for Rating vs. Reviews. Does more review mean a better rating always?"
   ]
  },
  {
   "cell_type": "code",
   "execution_count": 63,
   "metadata": {
    "colab": {
     "base_uri": "https://localhost:8080/",
     "height": 0
    },
    "colab_type": "code",
    "id": "xXIRpk-QiuYW",
    "outputId": "5b50b1c5-bc65-475e-cced-1299b68eaa5a"
   },
   "outputs": [
    {
     "data": {
      "text/plain": [
       "<matplotlib.collections.PathCollection at 0x1d7fc81c610>"
      ]
     },
     "execution_count": 63,
     "metadata": {},
     "output_type": "execute_result"
    },
    {
     "data": {
      "image/png": "[encoded data removed]",
      "text/plain": [
       "<Figure size 432x288 with 1 Axes>"
      ]
     },
     "metadata": {},
     "output_type": "display_data"
    }
   ],
   "source": [
    "plt.scatter(x = gdata5['Rating'],y = gdata5['Reviews_1'])"
   ]
  },
  {
   "cell_type": "markdown",
   "metadata": {},
   "source": [
    "From the scatter plot above it would appear that more reviews seem to be getting a better rating than lesser rated apps."
   ]
  },
  {
   "cell_type": "markdown",
   "metadata": {
    "colab_type": "text",
    "id": "VHdy8UbdivJU"
   },
   "source": [
    "### Step 7 Check 4 : Make boxplot for Rating vs. Content Rating. Is there any difference in the ratings? Are some types liked better?"
   ]
  },
  {
   "cell_type": "code",
   "execution_count": 64,
   "metadata": {
    "colab": {
     "base_uri": "https://localhost:8080/",
     "height": 0
    },
    "colab_type": "code",
    "id": "n6G8dMSAi30V",
    "outputId": "bfd94f16-0f1e-4c5d-cdcb-1c3058ff497a"
   },
   "outputs": [
    {
     "data": {
      "text/plain": [
       "<matplotlib.collections.PathCollection at 0x1d7fc8a3220>"
      ]
     },
     "execution_count": 64,
     "metadata": {},
     "output_type": "execute_result"
    },
    {
     "data": {
      "image/png": "[encoded data removed]",
      "text/plain": [
       "<Figure size 432x288 with 1 Axes>"
      ]
     },
     "metadata": {},
     "output_type": "display_data"
    }
   ],
   "source": [
    "plt.scatter(x = gdata5['Rating'],y = gdata5['Content Rating'])"
   ]
  },
  {
   "cell_type": "markdown",
   "metadata": {},
   "source": [
    "Content ratings of Mature 17+ seems to enjoy popularity across all rating classes, after Everyone."
   ]
  },
  {
   "cell_type": "markdown",
   "metadata": {
    "colab_type": "text",
    "id": "qUuwasm8i4oP"
   },
   "source": [
    "### Step 7 Check 5 : Make boxplot for Ratings vs. Category. Which genre has the best ratings?"
   ]
  },
  {
   "cell_type": "code",
   "execution_count": 65,
   "metadata": {
    "colab": {
     "base_uri": "https://localhost:8080/",
     "height": 0
    },
    "colab_type": "code",
    "id": "my3TNvX3jBez",
    "outputId": "6c20b797-032f-45b9-ce59-8263be4e2d7d"
   },
   "outputs": [
    {
     "data": {
      "text/plain": [
       "<matplotlib.collections.PathCollection at 0x1d7fc8bf610>"
      ]
     },
     "execution_count": 65,
     "metadata": {},
     "output_type": "execute_result"
    },
    {
     "data": {
      "image/png": "[encoded data removed]",
      "text/plain": [
       "<Figure size 432x288 with 1 Axes>"
      ]
     },
     "metadata": {},
     "output_type": "display_data"
    }
   ],
   "source": [
    "plt.scatter(x = gdata5['Rating'],y = gdata5['Category'])"
   ]
  },
  {
   "cell_type": "markdown",
   "metadata": {},
   "source": [
    "According to the scatter plot, Tools and Lifestyle seems to have the best ratings, as in each rating class is populated."
   ]
  },
  {
   "cell_type": "markdown",
   "metadata": {
    "colab_type": "text",
    "id": "3JTdxgZ6jCun"
   },
   "source": [
    "## Step 8 : Data preprocessing : For the steps below, create a copy of the dataframe to make all the edits. Name it inp1. "
   ]
  },
  {
   "cell_type": "code",
   "execution_count": 66,
   "metadata": {
    "colab": {
     "base_uri": "https://localhost:8080/",
     "height": 0
    },
    "colab_type": "code",
    "id": "VxwYYtCo7NMX",
    "outputId": "8a0d2156-aae5-4ca3-8681-6218bd96b8e3"
   },
   "outputs": [
    {
     "data": {
      "text/html": [
       "<div>\n",
       "<style scoped>\n",
       "    .dataframe tbody tr th:only-of-type {\n",
       "        vertical-align: middle;\n",
       "    }\n",
       "\n",
       "    .dataframe tbody tr th {\n",
       "        vertical-align: top;\n",
       "    }\n",
       "\n",
       "    .dataframe thead th {\n",
       "        text-align: right;\n",
       "    }\n",
       "</style>\n",
       "<table border=\"1\" class=\"dataframe\">\n",
       "  <thead>\n",
       "    <tr style=\"text-align: right;\">\n",
       "      <th></th>\n",
       "      <th>App</th>\n",
       "      <th>Category</th>\n",
       "      <th>Rating</th>\n",
       "      <th>Reviews</th>\n",
       "      <th>Size</th>\n",
       "      <th>Installs</th>\n",
       "      <th>Type</th>\n",
       "      <th>Price</th>\n",
       "      <th>Content Rating</th>\n",
       "      <th>Genres</th>\n",
       "      <th>...</th>\n",
       "      <th>Android Ver</th>\n",
       "      <th>Size_1</th>\n",
       "      <th>Size_2</th>\n",
       "      <th>Size_3</th>\n",
       "      <th>Size_4</th>\n",
       "      <th>Size_5</th>\n",
       "      <th>Reviews_1</th>\n",
       "      <th>Installs_1</th>\n",
       "      <th>Price_1</th>\n",
       "      <th>rgti</th>\n",
       "    </tr>\n",
       "  </thead>\n",
       "  <tbody>\n",
       "    <tr>\n",
       "      <th>0</th>\n",
       "      <td>Photo Editor &amp; Candy Camera &amp; Grid &amp; ScrapBook</td>\n",
       "      <td>ART_AND_DESIGN</td>\n",
       "      <td>4.1</td>\n",
       "      <td>159</td>\n",
       "      <td>19M</td>\n",
       "      <td>10,000+</td>\n",
       "      <td>Free</td>\n",
       "      <td>0</td>\n",
       "      <td>Everyone</td>\n",
       "      <td>Art &amp; Design</td>\n",
       "      <td>...</td>\n",
       "      <td>4.0.3 and up</td>\n",
       "      <td>19M</td>\n",
       "      <td>19</td>\n",
       "      <td>1000.0</td>\n",
       "      <td>19.0</td>\n",
       "      <td>19000.0</td>\n",
       "      <td>159</td>\n",
       "      <td>10000</td>\n",
       "      <td>0.0</td>\n",
       "      <td>False</td>\n",
       "    </tr>\n",
       "    <tr>\n",
       "      <th>1</th>\n",
       "      <td>Coloring book moana</td>\n",
       "      <td>ART_AND_DESIGN</td>\n",
       "      <td>3.9</td>\n",
       "      <td>967</td>\n",
       "      <td>14M</td>\n",
       "      <td>500,000+</td>\n",
       "      <td>Free</td>\n",
       "      <td>0</td>\n",
       "      <td>Everyone</td>\n",
       "      <td>Art &amp; Design;Pretend Play</td>\n",
       "      <td>...</td>\n",
       "      <td>4.0.3 and up</td>\n",
       "      <td>14M</td>\n",
       "      <td>14</td>\n",
       "      <td>1000.0</td>\n",
       "      <td>14.0</td>\n",
       "      <td>14000.0</td>\n",
       "      <td>967</td>\n",
       "      <td>500000</td>\n",
       "      <td>0.0</td>\n",
       "      <td>False</td>\n",
       "    </tr>\n",
       "    <tr>\n",
       "      <th>4</th>\n",
       "      <td>Pixel Draw - Number Art Coloring Book</td>\n",
       "      <td>ART_AND_DESIGN</td>\n",
       "      <td>4.3</td>\n",
       "      <td>967</td>\n",
       "      <td>2.8M</td>\n",
       "      <td>100,000+</td>\n",
       "      <td>Free</td>\n",
       "      <td>0</td>\n",
       "      <td>Everyone</td>\n",
       "      <td>Art &amp; Design;Creativity</td>\n",
       "      <td>...</td>\n",
       "      <td>4.4 and up</td>\n",
       "      <td>2.8M</td>\n",
       "      <td>2.8</td>\n",
       "      <td>1000.0</td>\n",
       "      <td>2.8</td>\n",
       "      <td>2800.0</td>\n",
       "      <td>967</td>\n",
       "      <td>100000</td>\n",
       "      <td>0.0</td>\n",
       "      <td>False</td>\n",
       "    </tr>\n",
       "    <tr>\n",
       "      <th>5</th>\n",
       "      <td>Paper flowers instructions</td>\n",
       "      <td>ART_AND_DESIGN</td>\n",
       "      <td>4.4</td>\n",
       "      <td>167</td>\n",
       "      <td>5.6M</td>\n",
       "      <td>50,000+</td>\n",
       "      <td>Free</td>\n",
       "      <td>0</td>\n",
       "      <td>Everyone</td>\n",
       "      <td>Art &amp; Design</td>\n",
       "      <td>...</td>\n",
       "      <td>2.3 and up</td>\n",
       "      <td>5.6M</td>\n",
       "      <td>5.6</td>\n",
       "      <td>1000.0</td>\n",
       "      <td>5.6</td>\n",
       "      <td>5600.0</td>\n",
       "      <td>167</td>\n",
       "      <td>50000</td>\n",
       "      <td>0.0</td>\n",
       "      <td>False</td>\n",
       "    </tr>\n",
       "    <tr>\n",
       "      <th>6</th>\n",
       "      <td>Smoke Effect Photo Maker - Smoke Editor</td>\n",
       "      <td>ART_AND_DESIGN</td>\n",
       "      <td>3.8</td>\n",
       "      <td>178</td>\n",
       "      <td>19M</td>\n",
       "      <td>50,000+</td>\n",
       "      <td>Free</td>\n",
       "      <td>0</td>\n",
       "      <td>Everyone</td>\n",
       "      <td>Art &amp; Design</td>\n",
       "      <td>...</td>\n",
       "      <td>4.0.3 and up</td>\n",
       "      <td>19M</td>\n",
       "      <td>19</td>\n",
       "      <td>1000.0</td>\n",
       "      <td>19.0</td>\n",
       "      <td>19000.0</td>\n",
       "      <td>178</td>\n",
       "      <td>50000</td>\n",
       "      <td>0.0</td>\n",
       "      <td>False</td>\n",
       "    </tr>\n",
       "  </tbody>\n",
       "</table>\n",
       "<p>5 rows × 22 columns</p>\n",
       "</div>"
      ],
      "text/plain": [
       "                                              App        Category  Rating  \\\n",
       "0  Photo Editor & Candy Camera & Grid & ScrapBook  ART_AND_DESIGN     4.1   \n",
       "1                             Coloring book moana  ART_AND_DESIGN     3.9   \n",
       "4           Pixel Draw - Number Art Coloring Book  ART_AND_DESIGN     4.3   \n",
       "5                      Paper flowers instructions  ART_AND_DESIGN     4.4   \n",
       "6         Smoke Effect Photo Maker - Smoke Editor  ART_AND_DESIGN     3.8   \n",
       "\n",
       "  Reviews  Size  Installs  Type Price Content Rating  \\\n",
       "0     159   19M   10,000+  Free     0       Everyone   \n",
       "1     967   14M  500,000+  Free     0       Everyone   \n",
       "4     967  2.8M  100,000+  Free     0       Everyone   \n",
       "5     167  5.6M   50,000+  Free     0       Everyone   \n",
       "6     178   19M   50,000+  Free     0       Everyone   \n",
       "\n",
       "                      Genres  ...   Android Ver Size_1 Size_2  Size_3 Size_4  \\\n",
       "0               Art & Design  ...  4.0.3 and up    19M     19  1000.0   19.0   \n",
       "1  Art & Design;Pretend Play  ...  4.0.3 and up    14M     14  1000.0   14.0   \n",
       "4    Art & Design;Creativity  ...    4.4 and up   2.8M    2.8  1000.0    2.8   \n",
       "5               Art & Design  ...    2.3 and up   5.6M    5.6  1000.0    5.6   \n",
       "6               Art & Design  ...  4.0.3 and up    19M     19  1000.0   19.0   \n",
       "\n",
       "    Size_5  Reviews_1  Installs_1  Price_1   rgti  \n",
       "0  19000.0        159       10000      0.0  False  \n",
       "1  14000.0        967      500000      0.0  False  \n",
       "4   2800.0        967      100000      0.0  False  \n",
       "5   5600.0        167       50000      0.0  False  \n",
       "6  19000.0        178       50000      0.0  False  \n",
       "\n",
       "[5 rows x 22 columns]"
      ]
     },
     "execution_count": 66,
     "metadata": {},
     "output_type": "execute_result"
    }
   ],
   "source": [
    "inp1 = gdata5.copy()\n",
    "inp1.head()"
   ]
  },
  {
   "cell_type": "markdown",
   "metadata": {
    "colab_type": "text",
    "id": "jQEA5M_jjPbl"
   },
   "source": [
    "### Step 8 Substep 1 : Reviews and Install have some values that are still relatively very high. Before building a linear regression model, you need to reduce the skew. Apply log transformation (np.log1p) to Reviews and Installs."
   ]
  },
  {
   "cell_type": "code",
   "execution_count": 67,
   "metadata": {
    "colab": {
     "base_uri": "https://localhost:8080/",
     "height": 0
    },
    "colab_type": "code",
    "id": "PxK6ulxJjX2f",
    "outputId": "6e0d50f2-008c-429c-9913-01180b54ef31"
   },
   "outputs": [
    {
     "data": {
      "text/plain": [
       "0    5.075174\n",
       "1    6.875232\n",
       "4    6.875232\n",
       "5    5.123964\n",
       "6    5.187386\n",
       "Name: Reviews_2, dtype: float64"
      ]
     },
     "execution_count": 67,
     "metadata": {},
     "output_type": "execute_result"
    }
   ],
   "source": [
    "inp1['Reviews_2'] = np.log1p(inp1['Reviews_1'])\n",
    "inp1['Reviews_2'].head()"
   ]
  },
  {
   "cell_type": "code",
   "execution_count": 68,
   "metadata": {
    "colab": {
     "base_uri": "https://localhost:8080/",
     "height": 0
    },
    "colab_type": "code",
    "id": "HfPHYsKx-rxa",
    "outputId": "11ab0a6b-03b6-45e2-ea5c-42fa403c71c5"
   },
   "outputs": [
    {
     "data": {
      "text/plain": [
       "0     9.210440\n",
       "1    13.122365\n",
       "4    11.512935\n",
       "5    10.819798\n",
       "6    10.819798\n",
       "Name: Installs_2, dtype: float64"
      ]
     },
     "execution_count": 68,
     "metadata": {},
     "output_type": "execute_result"
    }
   ],
   "source": [
    "inp1['Installs_2'] = np.log1p(inp1['Installs_1'])\n",
    "inp1['Installs_2'].head()"
   ]
  },
  {
   "cell_type": "code",
   "execution_count": 69,
   "metadata": {
    "colab": {
     "base_uri": "https://localhost:8080/",
     "height": 0
    },
    "colab_type": "code",
    "id": "odv90YH7PCgt",
    "outputId": "af89a0f8-61df-4afa-8a78-257b850a3409"
   },
   "outputs": [
    {
     "data": {
      "text/plain": [
       "0    9.852247\n",
       "1    9.546884\n",
       "4    7.937732\n",
       "5    8.630700\n",
       "6    9.852247\n",
       "Name: Size_5, dtype: float64"
      ]
     },
     "execution_count": 69,
     "metadata": {},
     "output_type": "execute_result"
    }
   ],
   "source": [
    "inp1['Size_5'] = np.log1p(inp1['Size_5'])\n",
    "inp1['Size_5'].head()"
   ]
  },
  {
   "cell_type": "markdown",
   "metadata": {
    "colab_type": "text",
    "id": "DfJmFd6CjYiI"
   },
   "source": [
    "### Step 8 Substep 2 : Drop columns App, Last Updated, Current Ver, and Android Ver. These variables are not useful for our task."
   ]
  },
  {
   "cell_type": "code",
   "execution_count": 70,
   "metadata": {
    "colab": {
     "base_uri": "https://localhost:8080/",
     "height": 0
    },
    "colab_type": "code",
    "id": "PJceO6D2jfnh",
    "outputId": "a9d55778-16e7-456c-a770-8b09b945c26c"
   },
   "outputs": [
    {
     "data": {
      "text/html": [
       "<div>\n",
       "<style scoped>\n",
       "    .dataframe tbody tr th:only-of-type {\n",
       "        vertical-align: middle;\n",
       "    }\n",
       "\n",
       "    .dataframe tbody tr th {\n",
       "        vertical-align: top;\n",
       "    }\n",
       "\n",
       "    .dataframe thead th {\n",
       "        text-align: right;\n",
       "    }\n",
       "</style>\n",
       "<table border=\"1\" class=\"dataframe\">\n",
       "  <thead>\n",
       "    <tr style=\"text-align: right;\">\n",
       "      <th></th>\n",
       "      <th>App</th>\n",
       "      <th>Category</th>\n",
       "      <th>Rating</th>\n",
       "      <th>Reviews</th>\n",
       "      <th>Size</th>\n",
       "      <th>Installs</th>\n",
       "      <th>Type</th>\n",
       "      <th>Price</th>\n",
       "      <th>Content Rating</th>\n",
       "      <th>Genres</th>\n",
       "      <th>...</th>\n",
       "      <th>Size_2</th>\n",
       "      <th>Size_3</th>\n",
       "      <th>Size_4</th>\n",
       "      <th>Size_5</th>\n",
       "      <th>Reviews_1</th>\n",
       "      <th>Installs_1</th>\n",
       "      <th>Price_1</th>\n",
       "      <th>rgti</th>\n",
       "      <th>Reviews_2</th>\n",
       "      <th>Installs_2</th>\n",
       "    </tr>\n",
       "  </thead>\n",
       "  <tbody>\n",
       "    <tr>\n",
       "      <th>0</th>\n",
       "      <td>Photo Editor &amp; Candy Camera &amp; Grid &amp; ScrapBook</td>\n",
       "      <td>ART_AND_DESIGN</td>\n",
       "      <td>4.1</td>\n",
       "      <td>159</td>\n",
       "      <td>19M</td>\n",
       "      <td>10,000+</td>\n",
       "      <td>Free</td>\n",
       "      <td>0</td>\n",
       "      <td>Everyone</td>\n",
       "      <td>Art &amp; Design</td>\n",
       "      <td>...</td>\n",
       "      <td>19</td>\n",
       "      <td>1000.0</td>\n",
       "      <td>19.0</td>\n",
       "      <td>9.852247</td>\n",
       "      <td>159</td>\n",
       "      <td>10000</td>\n",
       "      <td>0.0</td>\n",
       "      <td>False</td>\n",
       "      <td>5.075174</td>\n",
       "      <td>9.21044</td>\n",
       "    </tr>\n",
       "  </tbody>\n",
       "</table>\n",
       "<p>1 rows × 24 columns</p>\n",
       "</div>"
      ],
      "text/plain": [
       "                                              App        Category  Rating  \\\n",
       "0  Photo Editor & Candy Camera & Grid & ScrapBook  ART_AND_DESIGN     4.1   \n",
       "\n",
       "  Reviews Size Installs  Type Price Content Rating        Genres  ... Size_2  \\\n",
       "0     159  19M  10,000+  Free     0       Everyone  Art & Design  ...     19   \n",
       "\n",
       "   Size_3 Size_4    Size_5 Reviews_1  Installs_1  Price_1   rgti  Reviews_2  \\\n",
       "0  1000.0   19.0  9.852247       159       10000      0.0  False   5.075174   \n",
       "\n",
       "   Installs_2  \n",
       "0     9.21044  \n",
       "\n",
       "[1 rows x 24 columns]"
      ]
     },
     "execution_count": 70,
     "metadata": {},
     "output_type": "execute_result"
    }
   ],
   "source": [
    "inp1.head(1)"
   ]
  },
  {
   "cell_type": "code",
   "execution_count": 71,
   "metadata": {
    "colab": {
     "base_uri": "https://localhost:8080/",
     "height": 0
    },
    "colab_type": "code",
    "id": "zqFVgAFyDoN5",
    "outputId": "322dd834-fb11-470d-a727-b89c1973881c"
   },
   "outputs": [
    {
     "data": {
      "text/html": [
       "<div>\n",
       "<style scoped>\n",
       "    .dataframe tbody tr th:only-of-type {\n",
       "        vertical-align: middle;\n",
       "    }\n",
       "\n",
       "    .dataframe tbody tr th {\n",
       "        vertical-align: top;\n",
       "    }\n",
       "\n",
       "    .dataframe thead th {\n",
       "        text-align: right;\n",
       "    }\n",
       "</style>\n",
       "<table border=\"1\" class=\"dataframe\">\n",
       "  <thead>\n",
       "    <tr style=\"text-align: right;\">\n",
       "      <th></th>\n",
       "      <th>Category</th>\n",
       "      <th>Rating</th>\n",
       "      <th>Content Rating</th>\n",
       "      <th>Genres</th>\n",
       "      <th>Size_5</th>\n",
       "      <th>Price_1</th>\n",
       "      <th>Reviews_2</th>\n",
       "      <th>Installs_2</th>\n",
       "    </tr>\n",
       "  </thead>\n",
       "  <tbody>\n",
       "    <tr>\n",
       "      <th>0</th>\n",
       "      <td>ART_AND_DESIGN</td>\n",
       "      <td>4.1</td>\n",
       "      <td>Everyone</td>\n",
       "      <td>Art &amp; Design</td>\n",
       "      <td>9.852247</td>\n",
       "      <td>0.0</td>\n",
       "      <td>5.075174</td>\n",
       "      <td>9.21044</td>\n",
       "    </tr>\n",
       "  </tbody>\n",
       "</table>\n",
       "</div>"
      ],
      "text/plain": [
       "         Category  Rating Content Rating        Genres    Size_5  Price_1  \\\n",
       "0  ART_AND_DESIGN     4.1       Everyone  Art & Design  9.852247      0.0   \n",
       "\n",
       "   Reviews_2  Installs_2  \n",
       "0   5.075174     9.21044  "
      ]
     },
     "execution_count": 71,
     "metadata": {},
     "output_type": "execute_result"
    }
   ],
   "source": [
    "inp2 = inp1.drop(columns = ['App','Type','Last Updated','Current Ver','Android Ver','Size','Size_1','Size_2','Size_3','Size_4','Reviews','Installs','Price','Reviews_1','Installs_1','rgti'])\n",
    "inp2.head(1)"
   ]
  },
  {
   "cell_type": "code",
   "execution_count": 72,
   "metadata": {
    "colab": {},
    "colab_type": "code",
    "id": "K8DKtTVeNqCn"
   },
   "outputs": [],
   "source": [
    "inp3 = inp2.rename(columns={'Size_5':'Size','Price_1':'Price','Reviews_2':'Reviews','Installs_2':'Installs'})"
   ]
  },
  {
   "cell_type": "code",
   "execution_count": 73,
   "metadata": {
    "colab": {
     "base_uri": "https://localhost:8080/",
     "height": 0
    },
    "colab_type": "code",
    "id": "7I2rwqBhjoat",
    "outputId": "be12b044-8ef0-42da-da6a-708fde89f800"
   },
   "outputs": [
    {
     "data": {
      "text/html": [
       "<div>\n",
       "<style scoped>\n",
       "    .dataframe tbody tr th:only-of-type {\n",
       "        vertical-align: middle;\n",
       "    }\n",
       "\n",
       "    .dataframe tbody tr th {\n",
       "        vertical-align: top;\n",
       "    }\n",
       "\n",
       "    .dataframe thead th {\n",
       "        text-align: right;\n",
       "    }\n",
       "</style>\n",
       "<table border=\"1\" class=\"dataframe\">\n",
       "  <thead>\n",
       "    <tr style=\"text-align: right;\">\n",
       "      <th></th>\n",
       "      <th>Rating</th>\n",
       "      <th>Category</th>\n",
       "      <th>Reviews</th>\n",
       "      <th>Size</th>\n",
       "      <th>Installs</th>\n",
       "      <th>Price</th>\n",
       "      <th>Content Rating</th>\n",
       "      <th>Genres</th>\n",
       "    </tr>\n",
       "  </thead>\n",
       "  <tbody>\n",
       "    <tr>\n",
       "      <th>0</th>\n",
       "      <td>4.1</td>\n",
       "      <td>ART_AND_DESIGN</td>\n",
       "      <td>5.075174</td>\n",
       "      <td>9.852247</td>\n",
       "      <td>9.21044</td>\n",
       "      <td>0.0</td>\n",
       "      <td>Everyone</td>\n",
       "      <td>Art &amp; Design</td>\n",
       "    </tr>\n",
       "  </tbody>\n",
       "</table>\n",
       "</div>"
      ],
      "text/plain": [
       "   Rating        Category   Reviews      Size  Installs  Price Content Rating  \\\n",
       "0     4.1  ART_AND_DESIGN  5.075174  9.852247   9.21044    0.0       Everyone   \n",
       "\n",
       "         Genres  \n",
       "0  Art & Design  "
      ]
     },
     "execution_count": 73,
     "metadata": {},
     "output_type": "execute_result"
    }
   ],
   "source": [
    "inp1 = inp3[['Rating','Category','Reviews','Size','Installs','Price','Content Rating','Genres']]\n",
    "inp1.head(1)"
   ]
  },
  {
   "cell_type": "code",
   "execution_count": 74,
   "metadata": {
    "colab": {
     "base_uri": "https://localhost:8080/",
     "height": 0
    },
    "colab_type": "code",
    "id": "Un5MnzB4L1Wq",
    "outputId": "0aad942c-9dc8-44c9-cd34-736dc6c22439"
   },
   "outputs": [
    {
     "data": {
      "text/plain": [
       "Rating            0\n",
       "Category          0\n",
       "Reviews           0\n",
       "Size              0\n",
       "Installs          0\n",
       "Price             0\n",
       "Content Rating    0\n",
       "Genres            0\n",
       "dtype: int64"
      ]
     },
     "execution_count": 74,
     "metadata": {},
     "output_type": "execute_result"
    }
   ],
   "source": [
    "inp1.isnull().sum()"
   ]
  },
  {
   "cell_type": "code",
   "execution_count": 75,
   "metadata": {
    "colab": {
     "base_uri": "https://localhost:8080/",
     "height": 0
    },
    "colab_type": "code",
    "id": "Q6SmYj8Qf7P1",
    "outputId": "20b9658f-f771-4bef-a2df-eb76efdeabed"
   },
   "outputs": [
    {
     "data": {
      "text/plain": [
       "Rating            float64\n",
       "Category           object\n",
       "Reviews           float64\n",
       "Size              float64\n",
       "Installs          float64\n",
       "Price             float64\n",
       "Content Rating     object\n",
       "Genres             object\n",
       "dtype: object"
      ]
     },
     "execution_count": 75,
     "metadata": {},
     "output_type": "execute_result"
    }
   ],
   "source": [
    "inp1.dtypes"
   ]
  },
  {
   "cell_type": "code",
   "execution_count": 76,
   "metadata": {
    "colab": {},
    "colab_type": "code",
    "id": "-L9_mmLWYpQr"
   },
   "outputs": [],
   "source": [
    "inp1.replace([np.inf, -np.inf], np.nan, inplace=True)\n",
    "inp1.fillna(1, inplace=True)                              #to avoid error while sklearn linearregression 'Input contains NaN, infinity or a value too large for dtype('float64').'"
   ]
  },
  {
   "cell_type": "markdown",
   "metadata": {
    "colab_type": "text",
    "id": "KzAcgCcojgPz"
   },
   "source": [
    "### Step 8 Substep 3 : Get dummy columns for Category, Genres, and Content Rating. This needs to be done as the models do not understand categorical data, and all data should be numeric. Dummy encoding is one way to convert character fields to numeric. Name of dataframe should be inp2."
   ]
  },
  {
   "cell_type": "code",
   "execution_count": 77,
   "metadata": {
    "colab": {
     "base_uri": "https://localhost:8080/",
     "height": 0
    },
    "colab_type": "code",
    "id": "kreztbWbRlLh",
    "outputId": "c000efea-3bcb-47ed-b0b9-ad2b832cd43f"
   },
   "outputs": [
    {
     "data": {
      "text/html": [
       "<div>\n",
       "<style scoped>\n",
       "    .dataframe tbody tr th:only-of-type {\n",
       "        vertical-align: middle;\n",
       "    }\n",
       "\n",
       "    .dataframe tbody tr th {\n",
       "        vertical-align: top;\n",
       "    }\n",
       "\n",
       "    .dataframe thead th {\n",
       "        text-align: right;\n",
       "    }\n",
       "</style>\n",
       "<table border=\"1\" class=\"dataframe\">\n",
       "  <thead>\n",
       "    <tr style=\"text-align: right;\">\n",
       "      <th></th>\n",
       "      <th>Rating</th>\n",
       "      <th>Category</th>\n",
       "      <th>Reviews</th>\n",
       "      <th>Size</th>\n",
       "      <th>Installs</th>\n",
       "      <th>Price</th>\n",
       "      <th>Content Rating</th>\n",
       "      <th>Genres</th>\n",
       "    </tr>\n",
       "  </thead>\n",
       "  <tbody>\n",
       "    <tr>\n",
       "      <th>0</th>\n",
       "      <td>4.1</td>\n",
       "      <td>ART_AND_DESIGN</td>\n",
       "      <td>5.075174</td>\n",
       "      <td>9.852247</td>\n",
       "      <td>9.21044</td>\n",
       "      <td>0.0</td>\n",
       "      <td>Everyone</td>\n",
       "      <td>Art &amp; Design</td>\n",
       "    </tr>\n",
       "  </tbody>\n",
       "</table>\n",
       "</div>"
      ],
      "text/plain": [
       "   Rating        Category   Reviews      Size  Installs  Price Content Rating  \\\n",
       "0     4.1  ART_AND_DESIGN  5.075174  9.852247   9.21044    0.0       Everyone   \n",
       "\n",
       "         Genres  \n",
       "0  Art & Design  "
      ]
     },
     "execution_count": 77,
     "metadata": {},
     "output_type": "execute_result"
    }
   ],
   "source": [
    "inp1.head(1)"
   ]
  },
  {
   "cell_type": "code",
   "execution_count": 78,
   "metadata": {
    "colab": {
     "base_uri": "https://localhost:8080/",
     "height": 0
    },
    "colab_type": "code",
    "id": "RCgB2U27i0TD",
    "outputId": "6255a68d-2ab2-41f9-d540-6bef7a1254c0"
   },
   "outputs": [
    {
     "data": {
      "text/plain": [
       "FAMILY                 1366\n",
       "TOOLS                   545\n",
       "GAME                    522\n",
       "MEDICAL                 346\n",
       "FINANCE                 269\n",
       "LIFESTYLE               265\n",
       "BUSINESS                252\n",
       "PERSONALIZATION         233\n",
       "PRODUCTIVITY            213\n",
       "HEALTH_AND_FITNESS      209\n",
       "SPORTS                  198\n",
       "NEWS_AND_MAGAZINES      175\n",
       "DATING                  169\n",
       "COMMUNICATION           161\n",
       "PHOTOGRAPHY             145\n",
       "SOCIAL                  137\n",
       "BOOKS_AND_REFERENCE     137\n",
       "TRAVEL_AND_LOCAL        136\n",
       "SHOPPING                122\n",
       "EDUCATION                99\n",
       "VIDEO_PLAYERS            98\n",
       "MAPS_AND_NAVIGATION      90\n",
       "FOOD_AND_DRINK           79\n",
       "AUTO_AND_VEHICLES        68\n",
       "ENTERTAINMENT            68\n",
       "HOUSE_AND_HOME           60\n",
       "LIBRARIES_AND_DEMO       58\n",
       "COMICS                   52\n",
       "ART_AND_DESIGN           52\n",
       "WEATHER                  51\n",
       "PARENTING                48\n",
       "EVENTS                   43\n",
       "BEAUTY                   40\n",
       "Name: Category, dtype: int64"
      ]
     },
     "execution_count": 78,
     "metadata": {},
     "output_type": "execute_result"
    }
   ],
   "source": [
    "inp1['Category'].value_counts()"
   ]
  },
  {
   "cell_type": "code",
   "execution_count": 79,
   "metadata": {
    "colab": {},
    "colab_type": "code",
    "id": "q-PMg--RjTWt"
   },
   "outputs": [],
   "source": [
    "categories_to_combine = ['BOOKS_AND_REFERENCE','LIBRARIES_AND_DEMO','NEWS_AND_MAGAZINES','EDUCATION','COMICS']\n",
    "for cat in categories_to_combine:\n",
    " inp1['Category'].replace({cat:'BOOKS_AND_EDUCATION'},inplace = True)"
   ]
  },
  {
   "cell_type": "code",
   "execution_count": 80,
   "metadata": {
    "colab": {},
    "colab_type": "code",
    "id": "TZ_cyqVGsFHi"
   },
   "outputs": [],
   "source": [
    "categories_to_combine = ['MEDICAL','LIFESTYLE','HEALTH_AND_FITNESS','SPORTS','BEAUTY']\n",
    "for cat1 in categories_to_combine:\n",
    " inp1['Category'].replace({cat1:'HEALTH_AND_FITNESS'},inplace = True)"
   ]
  },
  {
   "cell_type": "code",
   "execution_count": 81,
   "metadata": {
    "colab": {},
    "colab_type": "code",
    "id": "7KknYl3qsjja"
   },
   "outputs": [],
   "source": [
    "categories_to_combine = ['DATING','SOCIAL','EVENTS','COMMUNICATION','FAMILY','PARENTING']\n",
    "for cat2 in categories_to_combine:\n",
    " inp1['Category'].replace({cat2:'SOCIAL'},inplace = True)"
   ]
  },
  {
   "cell_type": "code",
   "execution_count": 82,
   "metadata": {
    "colab": {},
    "colab_type": "code",
    "id": "qUW5LHnDs-b6"
   },
   "outputs": [],
   "source": [
    "categories_to_combine = ['GAME','VIDEO_PLAYERS','ENTERTAINMENT']\n",
    "for cat3 in categories_to_combine:\n",
    " inp1['Category'].replace({cat3:'ENTERTAINMENT'},inplace = True)"
   ]
  },
  {
   "cell_type": "code",
   "execution_count": 83,
   "metadata": {
    "colab": {},
    "colab_type": "code",
    "id": "RDVPXcI0tfX_"
   },
   "outputs": [],
   "source": [
    "categories_to_combine = ['BUSINESS','FINANCE','PRODUCTIVITY']\n",
    "for cat4 in categories_to_combine:\n",
    " inp1['Category'].replace({cat4:'BUSINESS'},inplace = True)"
   ]
  },
  {
   "cell_type": "code",
   "execution_count": 84,
   "metadata": {
    "colab": {},
    "colab_type": "code",
    "id": "1hx1D4a2uIPv"
   },
   "outputs": [],
   "source": [
    "categories_to_combine = ['MAPS_AND_NAVIGATION','TRAVEL_AND_LOCAL','FOOD_AND_DRINK','SHOPPING']\n",
    "for cat5 in categories_to_combine:\n",
    " inp1['Category'].replace({cat5:'MAPS_AND_NAVIGATION'},inplace = True)"
   ]
  },
  {
   "cell_type": "code",
   "execution_count": 85,
   "metadata": {
    "colab": {},
    "colab_type": "code",
    "id": "LtJeV6KlvU95"
   },
   "outputs": [],
   "source": [
    "categories_to_combine = ['PHOTOGRAPHY','ART_AND_DESIGN','HOUSE_AND_HOME','AUTO_AND_VEHICLES']\n",
    "for cat6 in categories_to_combine:\n",
    " inp1['Category'].replace({cat6:'HOBBIES'},inplace = True)"
   ]
  },
  {
   "cell_type": "code",
   "execution_count": 86,
   "metadata": {
    "colab": {
     "base_uri": "https://localhost:8080/",
     "height": 0
    },
    "colab_type": "code",
    "id": "DqSej6NNr0Aa",
    "outputId": "5dcb8672-c496-494b-eedc-20384fa71a42"
   },
   "outputs": [
    {
     "data": {
      "text/plain": [
       "SOCIAL                 1924\n",
       "HEALTH_AND_FITNESS     1058\n",
       "BUSINESS                734\n",
       "ENTERTAINMENT           688\n",
       "TOOLS                   545\n",
       "BOOKS_AND_EDUCATION     521\n",
       "MAPS_AND_NAVIGATION     427\n",
       "HOBBIES                 325\n",
       "PERSONALIZATION         233\n",
       "WEATHER                  51\n",
       "Name: Category, dtype: int64"
      ]
     },
     "execution_count": 86,
     "metadata": {},
     "output_type": "execute_result"
    }
   ],
   "source": [
    "inp1['Category'].value_counts()"
   ]
  },
  {
   "cell_type": "code",
   "execution_count": 87,
   "metadata": {
    "colab": {
     "base_uri": "https://localhost:8080/",
     "height": 0
    },
    "colab_type": "code",
    "id": "16hkGW74i0gX",
    "outputId": "5d2779c9-fbc2-4aa3-da0a-284688e59c06"
   },
   "outputs": [
    {
     "data": {
      "text/plain": [
       "Tools                                  545\n",
       "Education                              418\n",
       "Entertainment                          405\n",
       "Medical                                346\n",
       "Finance                                269\n",
       "                                      ... \n",
       "Comics;Creativity                        1\n",
       "Arcade;Pretend Play                      1\n",
       "Card;Action & Adventure                  1\n",
       "Health & Fitness;Action & Adventure      1\n",
       "Entertainment;Pretend Play               1\n",
       "Name: Genres, Length: 108, dtype: int64"
      ]
     },
     "execution_count": 87,
     "metadata": {},
     "output_type": "execute_result"
    }
   ],
   "source": [
    "inp1['Genres'].value_counts()"
   ]
  },
  {
   "cell_type": "code",
   "execution_count": 88,
   "metadata": {
    "colab": {},
    "colab_type": "code",
    "id": "2-F-NVjfv1n3"
   },
   "outputs": [],
   "source": [
    "categories_to_combine = ['Books & Reference','Books & Reference;Creativity','Books & Reference;Education','Libraries & Demo','News & Magazines','Education;Education','Education','Education;Creativity','Education;Music & Video','Education;Action & Adventure','Education;Pretend Play','Education;Brain Games','Simulation;Education','Educational;Creativity','Educational;Education','Educational;Brain Games','Educational;Pretend Play','Entertainment;Education','Casual;Education','Educational;Action & Adventure','Health & Fitness;Education','Adventure;Education','Tools;Education','Parenting;Education','Educational','Trivia;Education','Lifestyle;Education','Books & Reference;Education','Puzzle;Education','Role Playing;Education','Strategy;Education','Comics','Comics;Creativity']\n",
    "for cat in categories_to_combine:\n",
    " inp1['Genres'].replace({cat:'Books & Education'},inplace = True)"
   ]
  },
  {
   "cell_type": "code",
   "execution_count": 89,
   "metadata": {
    "colab": {},
    "colab_type": "code",
    "id": "ekeBrgD72QCj"
   },
   "outputs": [],
   "source": [
    "categories_to_combine = ['Medical','Lifestyle;Pretend Play','Health & Fitness','Health & Fitness;Action & Adventure','Sports','Sports;Action & Adventure','Beauty']\n",
    "for cat1 in categories_to_combine:\n",
    " inp1['Genres'].replace({cat1:'Health & Fitness'},inplace = True)"
   ]
  },
  {
   "cell_type": "code",
   "execution_count": 90,
   "metadata": {
    "colab": {},
    "colab_type": "code",
    "id": "6mnBg27h2QCv"
   },
   "outputs": [],
   "source": [
    "categories_to_combine = ['Dating','Social','Events','Communication','Communication;Creativity','Parenting','Parenting;Music & Video','Parenting;Brain Games']\n",
    "for cat2 in categories_to_combine:\n",
    " inp1['Genres'].replace({cat2:'Social'},inplace = True)"
   ]
  },
  {
   "cell_type": "code",
   "execution_count": 91,
   "metadata": {
    "colab": {},
    "colab_type": "code",
    "id": "rnGQS0xK2QC2"
   },
   "outputs": [],
   "source": [
    "categories_to_combine = ['Action','Simulation','Casual','Arcade','Role Playing','Puzzle','Adventure','Strategy','Racing','Card','Board','Word','Casino','Trivia','Entertainment;Brain Games','Casual;Brain Games','Puzzle;Brain Games','Casual;Pretend Play','Card;Brain Games','Board;Brain Games','Adventure;Brain Games','Role Playing;Brain Games','Arcade;Action & Adventure','Racing;Action & Adventure','Action;Action & Adventure','Casual;Action & Adventure','Simulation;Pretend Play','Simulation;Action & Adventure','Role Playing;Pretend Play','Adventure;Action & Adventure','Arcade;Action & Adventure','Racing;Action & Adventure','Action;Action & Adventure','Casual;Action & Adventure','Simulation;Pretend Play','Simulation;Action & Adventure','Role Playing;Pretend Play','Adventure;Action & Adventure','Role Playing;Action & Adventure','Puzzle;Creativity','Strategy;Action & Adventure','Board;Action & Adventure','Casual;Creativity','Board;Pretend Play','Racing;Pretend Play','Arcade;Pretend Play','Card;Action & Adventure','Strategy;Creativity','Puzzle;Action & Adventure','Video Players & Editors;Creativity','Video Players & Editors','Video Players & Editors;Music & Video','Entertainment','Entertainment;Music & Video','Entertainment;Creativity','Entertainment;Action & Adventure','Entertainment;Pretend Play','Music;Music & Video','Music & Audio;Music & Video','Music']\n",
    "for cat3 in categories_to_combine:\n",
    " inp1['Genres'].replace({cat3:'Entertainment'},inplace = True)"
   ]
  },
  {
   "cell_type": "code",
   "execution_count": 92,
   "metadata": {
    "colab": {},
    "colab_type": "code",
    "id": "RkiJlfPl2QDL"
   },
   "outputs": [],
   "source": [
    "categories_to_combine = ['Business','Finance','Productivity']\n",
    "for cat4 in categories_to_combine:\n",
    " inp1['Genres'].replace({cat4:'Business'},inplace = True)"
   ]
  },
  {
   "cell_type": "code",
   "execution_count": 93,
   "metadata": {
    "colab": {},
    "colab_type": "code",
    "id": "94CIXL_C2QDU"
   },
   "outputs": [],
   "source": [
    "categories_to_combine = ['Maps & Navigation','Travel & Local','Travel & Local;Action & Adventure','Food & Drink','Shopping']\n",
    "for cat5 in categories_to_combine:\n",
    " inp1['Genres'].replace({cat5:'Maps & Navigation'},inplace = True)"
   ]
  },
  {
   "cell_type": "code",
   "execution_count": 94,
   "metadata": {
    "colab": {},
    "colab_type": "code",
    "id": "jVSRGgKn2QDa"
   },
   "outputs": [],
   "source": [
    "categories_to_combine = ['Photography','Art & Design','Art & Design;Pretend Play','Art & Design;Creativity','Art & Design;Action & Adventure','House & Home','Auto & Vehicles']\n",
    "for cat6 in categories_to_combine:\n",
    " inp1['Genres'].replace({cat6:'Hobbies'},inplace = True)"
   ]
  },
  {
   "cell_type": "code",
   "execution_count": 95,
   "metadata": {
    "colab": {
     "base_uri": "https://localhost:8080/",
     "height": 0
    },
    "colab_type": "code",
    "id": "Qz1cfKEgwEcz",
    "outputId": "61348aff-8fe5-48a7-ef2e-c543ead4185f"
   },
   "outputs": [
    {
     "data": {
      "text/plain": [
       "Entertainment        1564\n",
       "Books & Education    1005\n",
       "Health & Fitness      798\n",
       "Business              734\n",
       "Social                556\n",
       "Tools                 545\n",
       "Maps & Navigation     427\n",
       "Hobbies               328\n",
       "Lifestyle             265\n",
       "Personalization       233\n",
       "Weather                51\n",
       "Name: Genres, dtype: int64"
      ]
     },
     "execution_count": 95,
     "metadata": {},
     "output_type": "execute_result"
    }
   ],
   "source": [
    "inp1['Genres'].value_counts()"
   ]
  },
  {
   "cell_type": "code",
   "execution_count": 96,
   "metadata": {
    "colab": {
     "base_uri": "https://localhost:8080/",
     "height": 0
    },
    "colab_type": "code",
    "id": "_1qFfhR-i03n",
    "outputId": "e97f154d-48e2-4356-e7d0-08d5d6ba806b"
   },
   "outputs": [
    {
     "data": {
      "text/plain": [
       "Everyone           5350\n",
       "Teen                625\n",
       "Mature 17+          314\n",
       "Everyone 10+        213\n",
       "Adults only 18+       3\n",
       "Unrated               1\n",
       "Name: Content Rating, dtype: int64"
      ]
     },
     "execution_count": 96,
     "metadata": {},
     "output_type": "execute_result"
    }
   ],
   "source": [
    "inp1['Content Rating'].value_counts()"
   ]
  },
  {
   "cell_type": "code",
   "execution_count": 97,
   "metadata": {
    "colab": {
     "base_uri": "https://localhost:8080/",
     "height": 0
    },
    "colab_type": "code",
    "id": "ziuNLTMsSpu9",
    "outputId": "4999a258-dd02-4816-8317-c94f50d650eb"
   },
   "outputs": [
    {
     "data": {
      "text/html": [
       "<div>\n",
       "<style scoped>\n",
       "    .dataframe tbody tr th:only-of-type {\n",
       "        vertical-align: middle;\n",
       "    }\n",
       "\n",
       "    .dataframe tbody tr th {\n",
       "        vertical-align: top;\n",
       "    }\n",
       "\n",
       "    .dataframe thead th {\n",
       "        text-align: right;\n",
       "    }\n",
       "</style>\n",
       "<table border=\"1\" class=\"dataframe\">\n",
       "  <thead>\n",
       "    <tr style=\"text-align: right;\">\n",
       "      <th></th>\n",
       "      <th>Rating</th>\n",
       "      <th>Reviews</th>\n",
       "      <th>Size</th>\n",
       "      <th>Installs</th>\n",
       "      <th>Price</th>\n",
       "      <th>Category_BOOKS_AND_EDUCATION</th>\n",
       "      <th>Category_BUSINESS</th>\n",
       "      <th>Category_ENTERTAINMENT</th>\n",
       "      <th>Category_HEALTH_AND_FITNESS</th>\n",
       "      <th>Category_HOBBIES</th>\n",
       "      <th>...</th>\n",
       "      <th>Genres_Personalization</th>\n",
       "      <th>Genres_Social</th>\n",
       "      <th>Genres_Tools</th>\n",
       "      <th>Genres_Weather</th>\n",
       "      <th>Content Rating_Adults only 18+</th>\n",
       "      <th>Content Rating_Everyone</th>\n",
       "      <th>Content Rating_Everyone 10+</th>\n",
       "      <th>Content Rating_Mature 17+</th>\n",
       "      <th>Content Rating_Teen</th>\n",
       "      <th>Content Rating_Unrated</th>\n",
       "    </tr>\n",
       "  </thead>\n",
       "  <tbody>\n",
       "    <tr>\n",
       "      <th>0</th>\n",
       "      <td>4.1</td>\n",
       "      <td>5.075174</td>\n",
       "      <td>9.852247</td>\n",
       "      <td>9.210440</td>\n",
       "      <td>0.0</td>\n",
       "      <td>0</td>\n",
       "      <td>0</td>\n",
       "      <td>0</td>\n",
       "      <td>0</td>\n",
       "      <td>1</td>\n",
       "      <td>...</td>\n",
       "      <td>0</td>\n",
       "      <td>0</td>\n",
       "      <td>0</td>\n",
       "      <td>0</td>\n",
       "      <td>0</td>\n",
       "      <td>1</td>\n",
       "      <td>0</td>\n",
       "      <td>0</td>\n",
       "      <td>0</td>\n",
       "      <td>0</td>\n",
       "    </tr>\n",
       "    <tr>\n",
       "      <th>1</th>\n",
       "      <td>3.9</td>\n",
       "      <td>6.875232</td>\n",
       "      <td>9.546884</td>\n",
       "      <td>13.122365</td>\n",
       "      <td>0.0</td>\n",
       "      <td>0</td>\n",
       "      <td>0</td>\n",
       "      <td>0</td>\n",
       "      <td>0</td>\n",
       "      <td>1</td>\n",
       "      <td>...</td>\n",
       "      <td>0</td>\n",
       "      <td>0</td>\n",
       "      <td>0</td>\n",
       "      <td>0</td>\n",
       "      <td>0</td>\n",
       "      <td>1</td>\n",
       "      <td>0</td>\n",
       "      <td>0</td>\n",
       "      <td>0</td>\n",
       "      <td>0</td>\n",
       "    </tr>\n",
       "    <tr>\n",
       "      <th>4</th>\n",
       "      <td>4.3</td>\n",
       "      <td>6.875232</td>\n",
       "      <td>7.937732</td>\n",
       "      <td>11.512935</td>\n",
       "      <td>0.0</td>\n",
       "      <td>0</td>\n",
       "      <td>0</td>\n",
       "      <td>0</td>\n",
       "      <td>0</td>\n",
       "      <td>1</td>\n",
       "      <td>...</td>\n",
       "      <td>0</td>\n",
       "      <td>0</td>\n",
       "      <td>0</td>\n",
       "      <td>0</td>\n",
       "      <td>0</td>\n",
       "      <td>1</td>\n",
       "      <td>0</td>\n",
       "      <td>0</td>\n",
       "      <td>0</td>\n",
       "      <td>0</td>\n",
       "    </tr>\n",
       "    <tr>\n",
       "      <th>5</th>\n",
       "      <td>4.4</td>\n",
       "      <td>5.123964</td>\n",
       "      <td>8.630700</td>\n",
       "      <td>10.819798</td>\n",
       "      <td>0.0</td>\n",
       "      <td>0</td>\n",
       "      <td>0</td>\n",
       "      <td>0</td>\n",
       "      <td>0</td>\n",
       "      <td>1</td>\n",
       "      <td>...</td>\n",
       "      <td>0</td>\n",
       "      <td>0</td>\n",
       "      <td>0</td>\n",
       "      <td>0</td>\n",
       "      <td>0</td>\n",
       "      <td>1</td>\n",
       "      <td>0</td>\n",
       "      <td>0</td>\n",
       "      <td>0</td>\n",
       "      <td>0</td>\n",
       "    </tr>\n",
       "    <tr>\n",
       "      <th>6</th>\n",
       "      <td>3.8</td>\n",
       "      <td>5.187386</td>\n",
       "      <td>9.852247</td>\n",
       "      <td>10.819798</td>\n",
       "      <td>0.0</td>\n",
       "      <td>0</td>\n",
       "      <td>0</td>\n",
       "      <td>0</td>\n",
       "      <td>0</td>\n",
       "      <td>1</td>\n",
       "      <td>...</td>\n",
       "      <td>0</td>\n",
       "      <td>0</td>\n",
       "      <td>0</td>\n",
       "      <td>0</td>\n",
       "      <td>0</td>\n",
       "      <td>1</td>\n",
       "      <td>0</td>\n",
       "      <td>0</td>\n",
       "      <td>0</td>\n",
       "      <td>0</td>\n",
       "    </tr>\n",
       "  </tbody>\n",
       "</table>\n",
       "<p>5 rows × 32 columns</p>\n",
       "</div>"
      ],
      "text/plain": [
       "   Rating   Reviews      Size   Installs  Price  Category_BOOKS_AND_EDUCATION  \\\n",
       "0     4.1  5.075174  9.852247   9.210440    0.0                             0   \n",
       "1     3.9  6.875232  9.546884  13.122365    0.0                             0   \n",
       "4     4.3  6.875232  7.937732  11.512935    0.0                             0   \n",
       "5     4.4  5.123964  8.630700  10.819798    0.0                             0   \n",
       "6     3.8  5.187386  9.852247  10.819798    0.0                             0   \n",
       "\n",
       "   Category_BUSINESS  Category_ENTERTAINMENT  Category_HEALTH_AND_FITNESS  \\\n",
       "0                  0                       0                            0   \n",
       "1                  0                       0                            0   \n",
       "4                  0                       0                            0   \n",
       "5                  0                       0                            0   \n",
       "6                  0                       0                            0   \n",
       "\n",
       "   Category_HOBBIES  ...  Genres_Personalization  Genres_Social  Genres_Tools  \\\n",
       "0                 1  ...                       0              0             0   \n",
       "1                 1  ...                       0              0             0   \n",
       "4                 1  ...                       0              0             0   \n",
       "5                 1  ...                       0              0             0   \n",
       "6                 1  ...                       0              0             0   \n",
       "\n",
       "   Genres_Weather  Content Rating_Adults only 18+  Content Rating_Everyone  \\\n",
       "0               0                               0                        1   \n",
       "1               0                               0                        1   \n",
       "4               0                               0                        1   \n",
       "5               0                               0                        1   \n",
       "6               0                               0                        1   \n",
       "\n",
       "   Content Rating_Everyone 10+  Content Rating_Mature 17+  \\\n",
       "0                            0                          0   \n",
       "1                            0                          0   \n",
       "4                            0                          0   \n",
       "5                            0                          0   \n",
       "6                            0                          0   \n",
       "\n",
       "   Content Rating_Teen  Content Rating_Unrated  \n",
       "0                    0                       0  \n",
       "1                    0                       0  \n",
       "4                    0                       0  \n",
       "5                    0                       0  \n",
       "6                    0                       0  \n",
       "\n",
       "[5 rows x 32 columns]"
      ]
     },
     "execution_count": 97,
     "metadata": {},
     "output_type": "execute_result"
    }
   ],
   "source": [
    "inp2 = pd.get_dummies(data=inp1,columns=['Category','Genres','Content Rating'])\n",
    "inp2.head()"
   ]
  },
  {
   "cell_type": "markdown",
   "metadata": {
    "colab_type": "text",
    "id": "nBeHe9AqjpTe"
   },
   "source": [
    "## Step 9 : Train test split  and apply 70-30 split. Name the new dataframes df_train and df_test."
   ]
  },
  {
   "cell_type": "code",
   "execution_count": 98,
   "metadata": {
    "colab": {
     "base_uri": "https://localhost:8080/",
     "height": 0
    },
    "colab_type": "code",
    "id": "MRPMUp3HICCq",
    "outputId": "933130e8-0ef0-41f5-a7e0-538823544daa"
   },
   "outputs": [
    {
     "data": {
      "text/html": [
       "<div>\n",
       "<style scoped>\n",
       "    .dataframe tbody tr th:only-of-type {\n",
       "        vertical-align: middle;\n",
       "    }\n",
       "\n",
       "    .dataframe tbody tr th {\n",
       "        vertical-align: top;\n",
       "    }\n",
       "\n",
       "    .dataframe thead th {\n",
       "        text-align: right;\n",
       "    }\n",
       "</style>\n",
       "<table border=\"1\" class=\"dataframe\">\n",
       "  <thead>\n",
       "    <tr style=\"text-align: right;\">\n",
       "      <th></th>\n",
       "      <th>Rating</th>\n",
       "      <th>Reviews</th>\n",
       "      <th>Size</th>\n",
       "      <th>Installs</th>\n",
       "      <th>Price</th>\n",
       "      <th>Category_BOOKS_AND_EDUCATION</th>\n",
       "      <th>Category_BUSINESS</th>\n",
       "      <th>Category_ENTERTAINMENT</th>\n",
       "      <th>Category_HEALTH_AND_FITNESS</th>\n",
       "      <th>Category_HOBBIES</th>\n",
       "      <th>...</th>\n",
       "      <th>Genres_Personalization</th>\n",
       "      <th>Genres_Social</th>\n",
       "      <th>Genres_Tools</th>\n",
       "      <th>Genres_Weather</th>\n",
       "      <th>Content Rating_Adults only 18+</th>\n",
       "      <th>Content Rating_Everyone</th>\n",
       "      <th>Content Rating_Everyone 10+</th>\n",
       "      <th>Content Rating_Mature 17+</th>\n",
       "      <th>Content Rating_Teen</th>\n",
       "      <th>Content Rating_Unrated</th>\n",
       "    </tr>\n",
       "  </thead>\n",
       "  <tbody>\n",
       "    <tr>\n",
       "      <th>0</th>\n",
       "      <td>4.1</td>\n",
       "      <td>5.075174</td>\n",
       "      <td>9.852247</td>\n",
       "      <td>9.21044</td>\n",
       "      <td>0.0</td>\n",
       "      <td>0</td>\n",
       "      <td>0</td>\n",
       "      <td>0</td>\n",
       "      <td>0</td>\n",
       "      <td>1</td>\n",
       "      <td>...</td>\n",
       "      <td>0</td>\n",
       "      <td>0</td>\n",
       "      <td>0</td>\n",
       "      <td>0</td>\n",
       "      <td>0</td>\n",
       "      <td>1</td>\n",
       "      <td>0</td>\n",
       "      <td>0</td>\n",
       "      <td>0</td>\n",
       "      <td>0</td>\n",
       "    </tr>\n",
       "  </tbody>\n",
       "</table>\n",
       "<p>1 rows × 32 columns</p>\n",
       "</div>"
      ],
      "text/plain": [
       "   Rating   Reviews      Size  Installs  Price  Category_BOOKS_AND_EDUCATION  \\\n",
       "0     4.1  5.075174  9.852247   9.21044    0.0                             0   \n",
       "\n",
       "   Category_BUSINESS  Category_ENTERTAINMENT  Category_HEALTH_AND_FITNESS  \\\n",
       "0                  0                       0                            0   \n",
       "\n",
       "   Category_HOBBIES  ...  Genres_Personalization  Genres_Social  Genres_Tools  \\\n",
       "0                 1  ...                       0              0             0   \n",
       "\n",
       "   Genres_Weather  Content Rating_Adults only 18+  Content Rating_Everyone  \\\n",
       "0               0                               0                        1   \n",
       "\n",
       "   Content Rating_Everyone 10+  Content Rating_Mature 17+  \\\n",
       "0                            0                          0   \n",
       "\n",
       "   Content Rating_Teen  Content Rating_Unrated  \n",
       "0                    0                       0  \n",
       "\n",
       "[1 rows x 32 columns]"
      ]
     },
     "execution_count": 98,
     "metadata": {},
     "output_type": "execute_result"
    }
   ],
   "source": [
    "inp2.head(1)"
   ]
  },
  {
   "cell_type": "code",
   "execution_count": 99,
   "metadata": {
    "colab": {
     "base_uri": "https://localhost:8080/",
     "height": 0
    },
    "colab_type": "code",
    "id": "tR1UA2iNqo8_",
    "outputId": "61703b3a-08d1-44b7-c92b-92a5e2c468c4"
   },
   "outputs": [
    {
     "data": {
      "text/html": [
       "<div>\n",
       "<style scoped>\n",
       "    .dataframe tbody tr th:only-of-type {\n",
       "        vertical-align: middle;\n",
       "    }\n",
       "\n",
       "    .dataframe tbody tr th {\n",
       "        vertical-align: top;\n",
       "    }\n",
       "\n",
       "    .dataframe thead th {\n",
       "        text-align: right;\n",
       "    }\n",
       "</style>\n",
       "<table border=\"1\" class=\"dataframe\">\n",
       "  <thead>\n",
       "    <tr style=\"text-align: right;\">\n",
       "      <th></th>\n",
       "      <th>Rating</th>\n",
       "      <th>Reviews</th>\n",
       "      <th>Size</th>\n",
       "      <th>Installs</th>\n",
       "      <th>Price</th>\n",
       "      <th>Category_BOOKS_AND_EDUCATION</th>\n",
       "      <th>Category_BUSINESS</th>\n",
       "      <th>Category_ENTERTAINMENT</th>\n",
       "      <th>Category_HEALTH_AND_FITNESS</th>\n",
       "      <th>Category_HOBBIES</th>\n",
       "      <th>...</th>\n",
       "      <th>Genres_Personalization</th>\n",
       "      <th>Genres_Social</th>\n",
       "      <th>Genres_Tools</th>\n",
       "      <th>Genres_Weather</th>\n",
       "      <th>Content Rating_Adults only 18+</th>\n",
       "      <th>Content Rating_Everyone</th>\n",
       "      <th>Content Rating_Everyone 10+</th>\n",
       "      <th>Content Rating_Mature 17+</th>\n",
       "      <th>Content Rating_Teen</th>\n",
       "      <th>Content Rating_Unrated</th>\n",
       "    </tr>\n",
       "  </thead>\n",
       "  <tbody>\n",
       "    <tr>\n",
       "      <th>0</th>\n",
       "      <td>4.1</td>\n",
       "      <td>5.075174</td>\n",
       "      <td>9.852247</td>\n",
       "      <td>9.210440</td>\n",
       "      <td>0.0</td>\n",
       "      <td>0</td>\n",
       "      <td>0</td>\n",
       "      <td>0</td>\n",
       "      <td>0</td>\n",
       "      <td>1</td>\n",
       "      <td>...</td>\n",
       "      <td>0</td>\n",
       "      <td>0</td>\n",
       "      <td>0</td>\n",
       "      <td>0</td>\n",
       "      <td>0</td>\n",
       "      <td>1</td>\n",
       "      <td>0</td>\n",
       "      <td>0</td>\n",
       "      <td>0</td>\n",
       "      <td>0</td>\n",
       "    </tr>\n",
       "    <tr>\n",
       "      <th>1</th>\n",
       "      <td>3.9</td>\n",
       "      <td>6.875232</td>\n",
       "      <td>9.546884</td>\n",
       "      <td>13.122365</td>\n",
       "      <td>0.0</td>\n",
       "      <td>0</td>\n",
       "      <td>0</td>\n",
       "      <td>0</td>\n",
       "      <td>0</td>\n",
       "      <td>1</td>\n",
       "      <td>...</td>\n",
       "      <td>0</td>\n",
       "      <td>0</td>\n",
       "      <td>0</td>\n",
       "      <td>0</td>\n",
       "      <td>0</td>\n",
       "      <td>1</td>\n",
       "      <td>0</td>\n",
       "      <td>0</td>\n",
       "      <td>0</td>\n",
       "      <td>0</td>\n",
       "    </tr>\n",
       "    <tr>\n",
       "      <th>4</th>\n",
       "      <td>4.3</td>\n",
       "      <td>6.875232</td>\n",
       "      <td>7.937732</td>\n",
       "      <td>11.512935</td>\n",
       "      <td>0.0</td>\n",
       "      <td>0</td>\n",
       "      <td>0</td>\n",
       "      <td>0</td>\n",
       "      <td>0</td>\n",
       "      <td>1</td>\n",
       "      <td>...</td>\n",
       "      <td>0</td>\n",
       "      <td>0</td>\n",
       "      <td>0</td>\n",
       "      <td>0</td>\n",
       "      <td>0</td>\n",
       "      <td>1</td>\n",
       "      <td>0</td>\n",
       "      <td>0</td>\n",
       "      <td>0</td>\n",
       "      <td>0</td>\n",
       "    </tr>\n",
       "    <tr>\n",
       "      <th>5</th>\n",
       "      <td>4.4</td>\n",
       "      <td>5.123964</td>\n",
       "      <td>8.630700</td>\n",
       "      <td>10.819798</td>\n",
       "      <td>0.0</td>\n",
       "      <td>0</td>\n",
       "      <td>0</td>\n",
       "      <td>0</td>\n",
       "      <td>0</td>\n",
       "      <td>1</td>\n",
       "      <td>...</td>\n",
       "      <td>0</td>\n",
       "      <td>0</td>\n",
       "      <td>0</td>\n",
       "      <td>0</td>\n",
       "      <td>0</td>\n",
       "      <td>1</td>\n",
       "      <td>0</td>\n",
       "      <td>0</td>\n",
       "      <td>0</td>\n",
       "      <td>0</td>\n",
       "    </tr>\n",
       "    <tr>\n",
       "      <th>6</th>\n",
       "      <td>3.8</td>\n",
       "      <td>5.187386</td>\n",
       "      <td>9.852247</td>\n",
       "      <td>10.819798</td>\n",
       "      <td>0.0</td>\n",
       "      <td>0</td>\n",
       "      <td>0</td>\n",
       "      <td>0</td>\n",
       "      <td>0</td>\n",
       "      <td>1</td>\n",
       "      <td>...</td>\n",
       "      <td>0</td>\n",
       "      <td>0</td>\n",
       "      <td>0</td>\n",
       "      <td>0</td>\n",
       "      <td>0</td>\n",
       "      <td>1</td>\n",
       "      <td>0</td>\n",
       "      <td>0</td>\n",
       "      <td>0</td>\n",
       "      <td>0</td>\n",
       "    </tr>\n",
       "  </tbody>\n",
       "</table>\n",
       "<p>5 rows × 32 columns</p>\n",
       "</div>"
      ],
      "text/plain": [
       "   Rating   Reviews      Size   Installs  Price  Category_BOOKS_AND_EDUCATION  \\\n",
       "0     4.1  5.075174  9.852247   9.210440    0.0                             0   \n",
       "1     3.9  6.875232  9.546884  13.122365    0.0                             0   \n",
       "4     4.3  6.875232  7.937732  11.512935    0.0                             0   \n",
       "5     4.4  5.123964  8.630700  10.819798    0.0                             0   \n",
       "6     3.8  5.187386  9.852247  10.819798    0.0                             0   \n",
       "\n",
       "   Category_BUSINESS  Category_ENTERTAINMENT  Category_HEALTH_AND_FITNESS  \\\n",
       "0                  0                       0                            0   \n",
       "1                  0                       0                            0   \n",
       "4                  0                       0                            0   \n",
       "5                  0                       0                            0   \n",
       "6                  0                       0                            0   \n",
       "\n",
       "   Category_HOBBIES  ...  Genres_Personalization  Genres_Social  Genres_Tools  \\\n",
       "0                 1  ...                       0              0             0   \n",
       "1                 1  ...                       0              0             0   \n",
       "4                 1  ...                       0              0             0   \n",
       "5                 1  ...                       0              0             0   \n",
       "6                 1  ...                       0              0             0   \n",
       "\n",
       "   Genres_Weather  Content Rating_Adults only 18+  Content Rating_Everyone  \\\n",
       "0               0                               0                        1   \n",
       "1               0                               0                        1   \n",
       "4               0                               0                        1   \n",
       "5               0                               0                        1   \n",
       "6               0                               0                        1   \n",
       "\n",
       "   Content Rating_Everyone 10+  Content Rating_Mature 17+  \\\n",
       "0                            0                          0   \n",
       "1                            0                          0   \n",
       "4                            0                          0   \n",
       "5                            0                          0   \n",
       "6                            0                          0   \n",
       "\n",
       "   Content Rating_Teen  Content Rating_Unrated  \n",
       "0                    0                       0  \n",
       "1                    0                       0  \n",
       "4                    0                       0  \n",
       "5                    0                       0  \n",
       "6                    0                       0  \n",
       "\n",
       "[5 rows x 32 columns]"
      ]
     },
     "execution_count": 99,
     "metadata": {},
     "output_type": "execute_result"
    }
   ],
   "source": [
    "df_train = inp2\n",
    "df_train.head()"
   ]
  },
  {
   "cell_type": "code",
   "execution_count": 100,
   "metadata": {
    "colab": {
     "base_uri": "https://localhost:8080/",
     "height": 0
    },
    "colab_type": "code",
    "id": "MPReIS5Ko73t",
    "outputId": "c59b1fbf-b317-4ac8-e6f0-2df935fe381a"
   },
   "outputs": [
    {
     "data": {
      "text/html": [
       "<div>\n",
       "<style scoped>\n",
       "    .dataframe tbody tr th:only-of-type {\n",
       "        vertical-align: middle;\n",
       "    }\n",
       "\n",
       "    .dataframe tbody tr th {\n",
       "        vertical-align: top;\n",
       "    }\n",
       "\n",
       "    .dataframe thead th {\n",
       "        text-align: right;\n",
       "    }\n",
       "</style>\n",
       "<table border=\"1\" class=\"dataframe\">\n",
       "  <thead>\n",
       "    <tr style=\"text-align: right;\">\n",
       "      <th></th>\n",
       "      <th>Reviews</th>\n",
       "      <th>Size</th>\n",
       "      <th>Installs</th>\n",
       "      <th>Price</th>\n",
       "      <th>Category_BOOKS_AND_EDUCATION</th>\n",
       "      <th>Category_BUSINESS</th>\n",
       "      <th>Category_ENTERTAINMENT</th>\n",
       "      <th>Category_HEALTH_AND_FITNESS</th>\n",
       "      <th>Category_HOBBIES</th>\n",
       "      <th>Category_MAPS_AND_NAVIGATION</th>\n",
       "      <th>...</th>\n",
       "      <th>Genres_Personalization</th>\n",
       "      <th>Genres_Social</th>\n",
       "      <th>Genres_Tools</th>\n",
       "      <th>Genres_Weather</th>\n",
       "      <th>Content Rating_Adults only 18+</th>\n",
       "      <th>Content Rating_Everyone</th>\n",
       "      <th>Content Rating_Everyone 10+</th>\n",
       "      <th>Content Rating_Mature 17+</th>\n",
       "      <th>Content Rating_Teen</th>\n",
       "      <th>Content Rating_Unrated</th>\n",
       "    </tr>\n",
       "  </thead>\n",
       "  <tbody>\n",
       "    <tr>\n",
       "      <th>0</th>\n",
       "      <td>5.075174</td>\n",
       "      <td>9.852247</td>\n",
       "      <td>9.210440</td>\n",
       "      <td>0.0</td>\n",
       "      <td>0</td>\n",
       "      <td>0</td>\n",
       "      <td>0</td>\n",
       "      <td>0</td>\n",
       "      <td>1</td>\n",
       "      <td>0</td>\n",
       "      <td>...</td>\n",
       "      <td>0</td>\n",
       "      <td>0</td>\n",
       "      <td>0</td>\n",
       "      <td>0</td>\n",
       "      <td>0</td>\n",
       "      <td>1</td>\n",
       "      <td>0</td>\n",
       "      <td>0</td>\n",
       "      <td>0</td>\n",
       "      <td>0</td>\n",
       "    </tr>\n",
       "    <tr>\n",
       "      <th>1</th>\n",
       "      <td>6.875232</td>\n",
       "      <td>9.546884</td>\n",
       "      <td>13.122365</td>\n",
       "      <td>0.0</td>\n",
       "      <td>0</td>\n",
       "      <td>0</td>\n",
       "      <td>0</td>\n",
       "      <td>0</td>\n",
       "      <td>1</td>\n",
       "      <td>0</td>\n",
       "      <td>...</td>\n",
       "      <td>0</td>\n",
       "      <td>0</td>\n",
       "      <td>0</td>\n",
       "      <td>0</td>\n",
       "      <td>0</td>\n",
       "      <td>1</td>\n",
       "      <td>0</td>\n",
       "      <td>0</td>\n",
       "      <td>0</td>\n",
       "      <td>0</td>\n",
       "    </tr>\n",
       "    <tr>\n",
       "      <th>4</th>\n",
       "      <td>6.875232</td>\n",
       "      <td>7.937732</td>\n",
       "      <td>11.512935</td>\n",
       "      <td>0.0</td>\n",
       "      <td>0</td>\n",
       "      <td>0</td>\n",
       "      <td>0</td>\n",
       "      <td>0</td>\n",
       "      <td>1</td>\n",
       "      <td>0</td>\n",
       "      <td>...</td>\n",
       "      <td>0</td>\n",
       "      <td>0</td>\n",
       "      <td>0</td>\n",
       "      <td>0</td>\n",
       "      <td>0</td>\n",
       "      <td>1</td>\n",
       "      <td>0</td>\n",
       "      <td>0</td>\n",
       "      <td>0</td>\n",
       "      <td>0</td>\n",
       "    </tr>\n",
       "    <tr>\n",
       "      <th>5</th>\n",
       "      <td>5.123964</td>\n",
       "      <td>8.630700</td>\n",
       "      <td>10.819798</td>\n",
       "      <td>0.0</td>\n",
       "      <td>0</td>\n",
       "      <td>0</td>\n",
       "      <td>0</td>\n",
       "      <td>0</td>\n",
       "      <td>1</td>\n",
       "      <td>0</td>\n",
       "      <td>...</td>\n",
       "      <td>0</td>\n",
       "      <td>0</td>\n",
       "      <td>0</td>\n",
       "      <td>0</td>\n",
       "      <td>0</td>\n",
       "      <td>1</td>\n",
       "      <td>0</td>\n",
       "      <td>0</td>\n",
       "      <td>0</td>\n",
       "      <td>0</td>\n",
       "    </tr>\n",
       "    <tr>\n",
       "      <th>6</th>\n",
       "      <td>5.187386</td>\n",
       "      <td>9.852247</td>\n",
       "      <td>10.819798</td>\n",
       "      <td>0.0</td>\n",
       "      <td>0</td>\n",
       "      <td>0</td>\n",
       "      <td>0</td>\n",
       "      <td>0</td>\n",
       "      <td>1</td>\n",
       "      <td>0</td>\n",
       "      <td>...</td>\n",
       "      <td>0</td>\n",
       "      <td>0</td>\n",
       "      <td>0</td>\n",
       "      <td>0</td>\n",
       "      <td>0</td>\n",
       "      <td>1</td>\n",
       "      <td>0</td>\n",
       "      <td>0</td>\n",
       "      <td>0</td>\n",
       "      <td>0</td>\n",
       "    </tr>\n",
       "  </tbody>\n",
       "</table>\n",
       "<p>5 rows × 31 columns</p>\n",
       "</div>"
      ],
      "text/plain": [
       "    Reviews      Size   Installs  Price  Category_BOOKS_AND_EDUCATION  \\\n",
       "0  5.075174  9.852247   9.210440    0.0                             0   \n",
       "1  6.875232  9.546884  13.122365    0.0                             0   \n",
       "4  6.875232  7.937732  11.512935    0.0                             0   \n",
       "5  5.123964  8.630700  10.819798    0.0                             0   \n",
       "6  5.187386  9.852247  10.819798    0.0                             0   \n",
       "\n",
       "   Category_BUSINESS  Category_ENTERTAINMENT  Category_HEALTH_AND_FITNESS  \\\n",
       "0                  0                       0                            0   \n",
       "1                  0                       0                            0   \n",
       "4                  0                       0                            0   \n",
       "5                  0                       0                            0   \n",
       "6                  0                       0                            0   \n",
       "\n",
       "   Category_HOBBIES  Category_MAPS_AND_NAVIGATION  ...  \\\n",
       "0                 1                             0  ...   \n",
       "1                 1                             0  ...   \n",
       "4                 1                             0  ...   \n",
       "5                 1                             0  ...   \n",
       "6                 1                             0  ...   \n",
       "\n",
       "   Genres_Personalization  Genres_Social  Genres_Tools  Genres_Weather  \\\n",
       "0                       0              0             0               0   \n",
       "1                       0              0             0               0   \n",
       "4                       0              0             0               0   \n",
       "5                       0              0             0               0   \n",
       "6                       0              0             0               0   \n",
       "\n",
       "   Content Rating_Adults only 18+  Content Rating_Everyone  \\\n",
       "0                               0                        1   \n",
       "1                               0                        1   \n",
       "4                               0                        1   \n",
       "5                               0                        1   \n",
       "6                               0                        1   \n",
       "\n",
       "   Content Rating_Everyone 10+  Content Rating_Mature 17+  \\\n",
       "0                            0                          0   \n",
       "1                            0                          0   \n",
       "4                            0                          0   \n",
       "5                            0                          0   \n",
       "6                            0                          0   \n",
       "\n",
       "   Content Rating_Teen  Content Rating_Unrated  \n",
       "0                    0                       0  \n",
       "1                    0                       0  \n",
       "4                    0                       0  \n",
       "5                    0                       0  \n",
       "6                    0                       0  \n",
       "\n",
       "[5 rows x 31 columns]"
      ]
     },
     "execution_count": 100,
     "metadata": {},
     "output_type": "execute_result"
    }
   ],
   "source": [
    "df_test = inp2.drop(['Rating'],axis=1)\n",
    "df_test.head()"
   ]
  },
  {
   "cell_type": "markdown",
   "metadata": {
    "colab_type": "text",
    "id": "r6OeRTWbjwmD"
   },
   "source": [
    "## Step 10 : Separate the dataframes into X_train, y_train, X_test, and y_test."
   ]
  },
  {
   "cell_type": "code",
   "execution_count": 101,
   "metadata": {
    "colab": {
     "base_uri": "https://localhost:8080/",
     "height": 0
    },
    "colab_type": "code",
    "id": "eKYsQa8HAWhI",
    "outputId": "083bb9e8-2e9c-415d-a77a-2687d2277bc9"
   },
   "outputs": [
    {
     "data": {
      "text/html": [
       "<div>\n",
       "<style scoped>\n",
       "    .dataframe tbody tr th:only-of-type {\n",
       "        vertical-align: middle;\n",
       "    }\n",
       "\n",
       "    .dataframe tbody tr th {\n",
       "        vertical-align: top;\n",
       "    }\n",
       "\n",
       "    .dataframe thead th {\n",
       "        text-align: right;\n",
       "    }\n",
       "</style>\n",
       "<table border=\"1\" class=\"dataframe\">\n",
       "  <thead>\n",
       "    <tr style=\"text-align: right;\">\n",
       "      <th></th>\n",
       "      <th>Reviews</th>\n",
       "      <th>Size</th>\n",
       "      <th>Installs</th>\n",
       "      <th>Price</th>\n",
       "      <th>Category_BOOKS_AND_EDUCATION</th>\n",
       "      <th>Category_BUSINESS</th>\n",
       "      <th>Category_ENTERTAINMENT</th>\n",
       "      <th>Category_HEALTH_AND_FITNESS</th>\n",
       "      <th>Category_HOBBIES</th>\n",
       "      <th>Category_MAPS_AND_NAVIGATION</th>\n",
       "      <th>...</th>\n",
       "      <th>Genres_Personalization</th>\n",
       "      <th>Genres_Social</th>\n",
       "      <th>Genres_Tools</th>\n",
       "      <th>Genres_Weather</th>\n",
       "      <th>Content Rating_Adults only 18+</th>\n",
       "      <th>Content Rating_Everyone</th>\n",
       "      <th>Content Rating_Everyone 10+</th>\n",
       "      <th>Content Rating_Mature 17+</th>\n",
       "      <th>Content Rating_Teen</th>\n",
       "      <th>Content Rating_Unrated</th>\n",
       "    </tr>\n",
       "  </thead>\n",
       "  <tbody>\n",
       "    <tr>\n",
       "      <th>0</th>\n",
       "      <td>5.075174</td>\n",
       "      <td>9.852247</td>\n",
       "      <td>9.210440</td>\n",
       "      <td>0.0</td>\n",
       "      <td>0</td>\n",
       "      <td>0</td>\n",
       "      <td>0</td>\n",
       "      <td>0</td>\n",
       "      <td>1</td>\n",
       "      <td>0</td>\n",
       "      <td>...</td>\n",
       "      <td>0</td>\n",
       "      <td>0</td>\n",
       "      <td>0</td>\n",
       "      <td>0</td>\n",
       "      <td>0</td>\n",
       "      <td>1</td>\n",
       "      <td>0</td>\n",
       "      <td>0</td>\n",
       "      <td>0</td>\n",
       "      <td>0</td>\n",
       "    </tr>\n",
       "    <tr>\n",
       "      <th>1</th>\n",
       "      <td>6.875232</td>\n",
       "      <td>9.546884</td>\n",
       "      <td>13.122365</td>\n",
       "      <td>0.0</td>\n",
       "      <td>0</td>\n",
       "      <td>0</td>\n",
       "      <td>0</td>\n",
       "      <td>0</td>\n",
       "      <td>1</td>\n",
       "      <td>0</td>\n",
       "      <td>...</td>\n",
       "      <td>0</td>\n",
       "      <td>0</td>\n",
       "      <td>0</td>\n",
       "      <td>0</td>\n",
       "      <td>0</td>\n",
       "      <td>1</td>\n",
       "      <td>0</td>\n",
       "      <td>0</td>\n",
       "      <td>0</td>\n",
       "      <td>0</td>\n",
       "    </tr>\n",
       "    <tr>\n",
       "      <th>4</th>\n",
       "      <td>6.875232</td>\n",
       "      <td>7.937732</td>\n",
       "      <td>11.512935</td>\n",
       "      <td>0.0</td>\n",
       "      <td>0</td>\n",
       "      <td>0</td>\n",
       "      <td>0</td>\n",
       "      <td>0</td>\n",
       "      <td>1</td>\n",
       "      <td>0</td>\n",
       "      <td>...</td>\n",
       "      <td>0</td>\n",
       "      <td>0</td>\n",
       "      <td>0</td>\n",
       "      <td>0</td>\n",
       "      <td>0</td>\n",
       "      <td>1</td>\n",
       "      <td>0</td>\n",
       "      <td>0</td>\n",
       "      <td>0</td>\n",
       "      <td>0</td>\n",
       "    </tr>\n",
       "    <tr>\n",
       "      <th>5</th>\n",
       "      <td>5.123964</td>\n",
       "      <td>8.630700</td>\n",
       "      <td>10.819798</td>\n",
       "      <td>0.0</td>\n",
       "      <td>0</td>\n",
       "      <td>0</td>\n",
       "      <td>0</td>\n",
       "      <td>0</td>\n",
       "      <td>1</td>\n",
       "      <td>0</td>\n",
       "      <td>...</td>\n",
       "      <td>0</td>\n",
       "      <td>0</td>\n",
       "      <td>0</td>\n",
       "      <td>0</td>\n",
       "      <td>0</td>\n",
       "      <td>1</td>\n",
       "      <td>0</td>\n",
       "      <td>0</td>\n",
       "      <td>0</td>\n",
       "      <td>0</td>\n",
       "    </tr>\n",
       "    <tr>\n",
       "      <th>6</th>\n",
       "      <td>5.187386</td>\n",
       "      <td>9.852247</td>\n",
       "      <td>10.819798</td>\n",
       "      <td>0.0</td>\n",
       "      <td>0</td>\n",
       "      <td>0</td>\n",
       "      <td>0</td>\n",
       "      <td>0</td>\n",
       "      <td>1</td>\n",
       "      <td>0</td>\n",
       "      <td>...</td>\n",
       "      <td>0</td>\n",
       "      <td>0</td>\n",
       "      <td>0</td>\n",
       "      <td>0</td>\n",
       "      <td>0</td>\n",
       "      <td>1</td>\n",
       "      <td>0</td>\n",
       "      <td>0</td>\n",
       "      <td>0</td>\n",
       "      <td>0</td>\n",
       "    </tr>\n",
       "  </tbody>\n",
       "</table>\n",
       "<p>5 rows × 31 columns</p>\n",
       "</div>"
      ],
      "text/plain": [
       "    Reviews      Size   Installs  Price  Category_BOOKS_AND_EDUCATION  \\\n",
       "0  5.075174  9.852247   9.210440    0.0                             0   \n",
       "1  6.875232  9.546884  13.122365    0.0                             0   \n",
       "4  6.875232  7.937732  11.512935    0.0                             0   \n",
       "5  5.123964  8.630700  10.819798    0.0                             0   \n",
       "6  5.187386  9.852247  10.819798    0.0                             0   \n",
       "\n",
       "   Category_BUSINESS  Category_ENTERTAINMENT  Category_HEALTH_AND_FITNESS  \\\n",
       "0                  0                       0                            0   \n",
       "1                  0                       0                            0   \n",
       "4                  0                       0                            0   \n",
       "5                  0                       0                            0   \n",
       "6                  0                       0                            0   \n",
       "\n",
       "   Category_HOBBIES  Category_MAPS_AND_NAVIGATION  ...  \\\n",
       "0                 1                             0  ...   \n",
       "1                 1                             0  ...   \n",
       "4                 1                             0  ...   \n",
       "5                 1                             0  ...   \n",
       "6                 1                             0  ...   \n",
       "\n",
       "   Genres_Personalization  Genres_Social  Genres_Tools  Genres_Weather  \\\n",
       "0                       0              0             0               0   \n",
       "1                       0              0             0               0   \n",
       "4                       0              0             0               0   \n",
       "5                       0              0             0               0   \n",
       "6                       0              0             0               0   \n",
       "\n",
       "   Content Rating_Adults only 18+  Content Rating_Everyone  \\\n",
       "0                               0                        1   \n",
       "1                               0                        1   \n",
       "4                               0                        1   \n",
       "5                               0                        1   \n",
       "6                               0                        1   \n",
       "\n",
       "   Content Rating_Everyone 10+  Content Rating_Mature 17+  \\\n",
       "0                            0                          0   \n",
       "1                            0                          0   \n",
       "4                            0                          0   \n",
       "5                            0                          0   \n",
       "6                            0                          0   \n",
       "\n",
       "   Content Rating_Teen  Content Rating_Unrated  \n",
       "0                    0                       0  \n",
       "1                    0                       0  \n",
       "4                    0                       0  \n",
       "5                    0                       0  \n",
       "6                    0                       0  \n",
       "\n",
       "[5 rows x 31 columns]"
      ]
     },
     "execution_count": 101,
     "metadata": {},
     "output_type": "execute_result"
    }
   ],
   "source": [
    "x = df_train.drop(columns = ['Rating'])\n",
    "x.head()"
   ]
  },
  {
   "cell_type": "code",
   "execution_count": 102,
   "metadata": {
    "colab": {
     "base_uri": "https://localhost:8080/",
     "height": 0
    },
    "colab_type": "code",
    "id": "K4AvqJxkAW0O",
    "outputId": "0afb3e4c-d491-4594-bd30-155582aac5ba"
   },
   "outputs": [
    {
     "data": {
      "text/plain": [
       "0    4.1\n",
       "1    3.9\n",
       "4    4.3\n",
       "5    4.4\n",
       "6    3.8\n",
       "Name: Rating, dtype: float64"
      ]
     },
     "execution_count": 102,
     "metadata": {},
     "output_type": "execute_result"
    }
   ],
   "source": [
    "y = df_train['Rating']\n",
    "y.head()"
   ]
  },
  {
   "cell_type": "code",
   "execution_count": 103,
   "metadata": {
    "colab": {
     "base_uri": "https://localhost:8080/",
     "height": 0
    },
    "colab_type": "code",
    "id": "tvMudn9mD7jr",
    "outputId": "1231f588-08fd-4f01-f803-7823772a6891"
   },
   "outputs": [
    {
     "data": {
      "text/plain": [
       "(6506, 31)"
      ]
     },
     "execution_count": 103,
     "metadata": {},
     "output_type": "execute_result"
    }
   ],
   "source": [
    "x.shape"
   ]
  },
  {
   "cell_type": "code",
   "execution_count": 104,
   "metadata": {
    "colab": {
     "base_uri": "https://localhost:8080/",
     "height": 0
    },
    "colab_type": "code",
    "id": "fRZQrzLtEC9B",
    "outputId": "1b44fe1f-6569-4eca-b67f-984eb8bce77d"
   },
   "outputs": [
    {
     "data": {
      "text/plain": [
       "(6506,)"
      ]
     },
     "execution_count": 104,
     "metadata": {},
     "output_type": "execute_result"
    }
   ],
   "source": [
    "y.shape"
   ]
  },
  {
   "cell_type": "code",
   "execution_count": 105,
   "metadata": {
    "colab": {
     "base_uri": "https://localhost:8080/",
     "height": 0
    },
    "colab_type": "code",
    "id": "tXgYoM_-W92x",
    "outputId": "44bda813-2a83-4ead-a61b-3820ba741a7f"
   },
   "outputs": [
    {
     "name": "stdout",
     "output_type": "stream",
     "text": [
      "(4554, 31)\n",
      "(1952, 31)\n",
      "(4554,)\n",
      "(1952,)\n"
     ]
    }
   ],
   "source": [
    "x_train,x_test,y_train,y_test = train_test_split(x,y,test_size=0.3,random_state=42)\n",
    "print(x_train.shape)\n",
    "print(x_test.shape)\n",
    "print(y_train.shape)\n",
    "print(y_test.shape)"
   ]
  },
  {
   "cell_type": "markdown",
   "metadata": {
    "colab_type": "text",
    "id": "yRK_9S9nj145"
   },
   "source": [
    "## Step 11 : Model building :"
   ]
  },
  {
   "cell_type": "markdown",
   "metadata": {
    "colab_type": "text",
    "id": "zLP1Wn5pj8mU"
   },
   "source": [
    "### Step 11 Substep 1 : Use linear regression as the technique"
   ]
  },
  {
   "cell_type": "code",
   "execution_count": 106,
   "metadata": {
    "colab": {
     "base_uri": "https://localhost:8080/",
     "height": 34
    },
    "colab_type": "code",
    "id": "jm9OKPeQkC0g",
    "outputId": "ea84d3da-fed8-4860-f402-4160125865cb"
   },
   "outputs": [
    {
     "data": {
      "text/plain": [
       "LinearRegression(n_jobs=-1)"
      ]
     },
     "execution_count": 106,
     "metadata": {},
     "output_type": "execute_result"
    }
   ],
   "source": [
    "model = LinearRegression(n_jobs=-1)\n",
    "model.fit(x_train,y_train)"
   ]
  },
  {
   "cell_type": "code",
   "execution_count": 107,
   "metadata": {
    "colab": {
     "base_uri": "https://localhost:8080/",
     "height": 136
    },
    "colab_type": "code",
    "id": "blO8mxtiohxH",
    "outputId": "584383bd-4443-4a92-ed54-efc39f4edc90"
   },
   "outputs": [
    {
     "name": "stdout",
     "output_type": "stream",
     "text": [
      "4.788336421585006\n",
      "[ 0.17351697 -0.01861844 -0.15656045 -0.00711199 -0.01917038 -0.01862594\n",
      "  0.00928445  0.13347704 -0.17510211 -0.01451077  0.07498708  0.04044487\n",
      " -0.05576174  0.0249775   0.1047881  -0.01862594 -0.07126721 -0.03969325\n",
      "  0.17814967 -0.15563837 -0.01451077  0.07498708 -0.02740508 -0.05576174\n",
      "  0.0249775  -0.09375881  0.03234164 -0.00979026 -0.02371323  0.04296383\n",
      "  0.05195683]\n"
     ]
    }
   ],
   "source": [
    "print(model.intercept_)\n",
    "print(model.coef_)"
   ]
  },
  {
   "cell_type": "code",
   "execution_count": 108,
   "metadata": {
    "colab": {
     "base_uri": "https://localhost:8080/",
     "height": 54
    },
    "colab_type": "code",
    "id": "3toP50qIoz6-",
    "outputId": "8dec2660-686a-4db1-d1e8-a3612fab7f94"
   },
   "outputs": [
    {
     "name": "stdout",
     "output_type": "stream",
     "text": [
      "['Rating', 'Reviews', 'Size', 'Installs', 'Price', 'Category_BOOKS_AND_EDUCATION', 'Category_BUSINESS', 'Category_ENTERTAINMENT', 'Category_HEALTH_AND_FITNESS', 'Category_HOBBIES', 'Category_MAPS_AND_NAVIGATION', 'Category_PERSONALIZATION', 'Category_SOCIAL', 'Category_TOOLS', 'Category_WEATHER', 'Genres_Books & Education', 'Genres_Business', 'Genres_Entertainment', 'Genres_Health & Fitness', 'Genres_Hobbies', 'Genres_Lifestyle', 'Genres_Maps & Navigation', 'Genres_Personalization', 'Genres_Social', 'Genres_Tools', 'Genres_Weather', 'Content Rating_Adults only 18+', 'Content Rating_Everyone', 'Content Rating_Everyone 10+', 'Content Rating_Mature 17+', 'Content Rating_Teen', 'Content Rating_Unrated']\n"
     ]
    }
   ],
   "source": [
    "print(df_train.columns.values.tolist())"
   ]
  },
  {
   "cell_type": "code",
   "execution_count": 109,
   "metadata": {
    "colab": {
     "base_uri": "https://localhost:8080/",
     "height": 544
    },
    "colab_type": "code",
    "id": "H5vgfwaXo8vG",
    "outputId": "e05a2846-8e97-44af-f65c-96ff88dc3305"
   },
   "outputs": [
    {
     "data": {
      "text/plain": [
       "[('Rating', 0.1735169723862383),\n",
       " ('Reviews', -0.01861844237407065),\n",
       " ('Size', -0.15656045074630592),\n",
       " ('Installs', -0.00711199223571913),\n",
       " ('Price', -0.01917038447568863),\n",
       " ('Category_BOOKS_AND_EDUCATION', -0.01862594426687794),\n",
       " ('Category_BUSINESS', 0.009284451604858968),\n",
       " ('Category_ENTERTAINMENT', 0.13347703507030242),\n",
       " ('Category_HEALTH_AND_FITNESS', -0.17510210863178274),\n",
       " ('Category_HOBBIES', -0.014510768824954),\n",
       " ('Category_MAPS_AND_NAVIGATION', 0.07498707849065384),\n",
       " ('Category_PERSONALIZATION', 0.04044487398888735),\n",
       " ('Category_SOCIAL', -0.05576173553818265),\n",
       " ('Category_TOOLS', 0.024977502582783737),\n",
       " ('Category_WEATHER', 0.104788099992335),\n",
       " ('Genres_Books & Education', -0.0186259442668785),\n",
       " ('Genres_Business', -0.07126720527414562),\n",
       " ('Genres_Entertainment', -0.03969324538529741),\n",
       " ('Genres_Health & Fitness', 0.17814966536062926),\n",
       " ('Genres_Hobbies', -0.15563836587442628),\n",
       " ('Genres_Lifestyle', -0.014510768824953932),\n",
       " ('Genres_Maps & Navigation', 0.07498707849065381),\n",
       " ('Genres_Personalization', -0.027405081262517617),\n",
       " ('Genres_Social', -0.055761735538182526),\n",
       " ('Genres_Tools', 0.024977502582783792),\n",
       " ('Genres_Weather', -0.09375881196068873),\n",
       " ('Content Rating_Adults only 18+', 0.03234164318162746),\n",
       " ('Content Rating_Everyone', -0.009790264959513108),\n",
       " ('Content Rating_Everyone 10+', -0.023713228760583613),\n",
       " ('Content Rating_Mature 17+', 0.04296383010129111),\n",
       " ('Content Rating_Teen', 0.05195683239786657)]"
      ]
     },
     "execution_count": 109,
     "metadata": {},
     "output_type": "execute_result"
    }
   ],
   "source": [
    "list(zip(df_train.columns,model.coef_))"
   ]
  },
  {
   "cell_type": "code",
   "execution_count": 110,
   "metadata": {
    "colab": {
     "base_uri": "https://localhost:8080/",
     "height": 238
    },
    "colab_type": "code",
    "id": "wiPCa33Xo_a0",
    "outputId": "96f97ae5-e2b5-435b-9dcb-a977134bf080"
   },
   "outputs": [
    {
     "data": {
      "text/plain": [
       "Index(['Reviews', 'Size', 'Installs', 'Price', 'Category_BOOKS_AND_EDUCATION',\n",
       "       'Category_BUSINESS', 'Category_ENTERTAINMENT',\n",
       "       'Category_HEALTH_AND_FITNESS', 'Category_HOBBIES',\n",
       "       'Category_MAPS_AND_NAVIGATION', 'Category_PERSONALIZATION',\n",
       "       'Category_SOCIAL', 'Category_TOOLS', 'Category_WEATHER',\n",
       "       'Genres_Books & Education', 'Genres_Business', 'Genres_Entertainment',\n",
       "       'Genres_Health & Fitness', 'Genres_Hobbies', 'Genres_Lifestyle',\n",
       "       'Genres_Maps & Navigation', 'Genres_Personalization', 'Genres_Social',\n",
       "       'Genres_Tools', 'Genres_Weather', 'Content Rating_Adults only 18+',\n",
       "       'Content Rating_Everyone', 'Content Rating_Everyone 10+',\n",
       "       'Content Rating_Mature 17+', 'Content Rating_Teen',\n",
       "       'Content Rating_Unrated'],\n",
       "      dtype='object')"
      ]
     },
     "execution_count": 110,
     "metadata": {},
     "output_type": "execute_result"
    }
   ],
   "source": [
    "predictors = df_train.columns.drop(['Rating'])\n",
    "predictors"
   ]
  },
  {
   "cell_type": "code",
   "execution_count": 111,
   "metadata": {
    "colab": {
     "base_uri": "https://localhost:8080/",
     "height": 561
    },
    "colab_type": "code",
    "id": "NgsDtVIQpEHY",
    "outputId": "5459594b-8ff3-45b0-f0e5-8b629df4fd56"
   },
   "outputs": [
    {
     "data": {
      "text/plain": [
       "Category_HOBBIES                 -0.175102\n",
       "Installs                         -0.156560\n",
       "Genres_Lifestyle                 -0.155638\n",
       "Content Rating_Adults only 18+   -0.093759\n",
       "Genres_Entertainment             -0.071267\n",
       "Category_TOOLS                   -0.055762\n",
       "Genres_Tools                     -0.055762\n",
       "Genres_Health & Fitness          -0.039693\n",
       "Genres_Social                    -0.027405\n",
       "Content Rating_Mature 17+        -0.023713\n",
       "Category_BOOKS_AND_EDUCATION     -0.019170\n",
       "Genres_Business                  -0.018626\n",
       "Category_BUSINESS                -0.018626\n",
       "Size                             -0.018618\n",
       "Category_MAPS_AND_NAVIGATION     -0.014511\n",
       "Genres_Maps & Navigation         -0.014511\n",
       "Content Rating_Everyone 10+      -0.009790\n",
       "Price                            -0.007112\n",
       "Category_ENTERTAINMENT            0.009284\n",
       "Category_WEATHER                  0.024978\n",
       "Genres_Weather                    0.024978\n",
       "Content Rating_Everyone           0.032342\n",
       "Category_SOCIAL                   0.040445\n",
       "Content Rating_Teen               0.042964\n",
       "Content Rating_Unrated            0.051957\n",
       "Genres_Personalization            0.074987\n",
       "Category_PERSONALIZATION          0.074987\n",
       "Genres_Books & Education          0.104788\n",
       "Category_HEALTH_AND_FITNESS       0.133477\n",
       "Reviews                           0.173517\n",
       "Genres_Hobbies                    0.178150\n",
       "dtype: float64"
      ]
     },
     "execution_count": 111,
     "metadata": {},
     "output_type": "execute_result"
    }
   ],
   "source": [
    "coef = pd.Series(model.coef_,predictors).sort_values()\n",
    "coef"
   ]
  },
  {
   "cell_type": "code",
   "execution_count": 112,
   "metadata": {
    "colab": {
     "base_uri": "https://localhost:8080/",
     "height": 486
    },
    "colab_type": "code",
    "id": "3Nm2BCgfqbL6",
    "outputId": "d2746f84-e2da-4eaf-f59b-38648711b49b"
   },
   "outputs": [
    {
     "data": {
      "text/plain": [
       "<AxesSubplot:title={'center':'Modal Coefficients'}>"
      ]
     },
     "execution_count": 112,
     "metadata": {},
     "output_type": "execute_result"
    },
    {
     "data": {
      "image/png": "[encoded data removed]",
      "text/plain": [
       "<Figure size 432x288 with 1 Axes>"
      ]
     },
     "metadata": {},
     "output_type": "display_data"
    }
   ],
   "source": [
    "coef.plot(kind='bar',title = 'Modal Coefficients')"
   ]
  },
  {
   "cell_type": "code",
   "execution_count": 113,
   "metadata": {
    "colab": {
     "base_uri": "https://localhost:8080/",
     "height": 284
    },
    "colab_type": "code",
    "id": "rEO6QOCuMAaA",
    "outputId": "9db4f82f-6a3c-4ab5-fc13-01012f3692da"
   },
   "outputs": [
    {
     "data": {
      "image/png": "[encoded data removed]",
      "text/plain": [
       "<Figure size 432x288 with 1 Axes>"
      ]
     },
     "metadata": {},
     "output_type": "display_data"
    }
   ],
   "source": [
    "plt.scatter(df_train['Genres_Hobbies'],df_train['Rating'])\n",
    "plt.title(\"Relationship between Genre : Hobbies and The target variable\")\n",
    "plt.show()"
   ]
  },
  {
   "cell_type": "code",
   "execution_count": 114,
   "metadata": {
    "colab": {
     "base_uri": "https://localhost:8080/",
     "height": 284
    },
    "colab_type": "code",
    "id": "MoUPSDR9MGed",
    "outputId": "ea0f2a93-d6ae-49d2-a631-5fc12ce591af"
   },
   "outputs": [
    {
     "data": {
      "image/png": "[encoded data removed]",
      "text/plain": [
       "<Figure size 432x288 with 1 Axes>"
      ]
     },
     "metadata": {},
     "output_type": "display_data"
    }
   ],
   "source": [
    "plt.scatter(df_train['Price'],df_train['Rating'])\n",
    "plt.title(\"Relationship between Price and The target variable\")\n",
    "plt.show()"
   ]
  },
  {
   "cell_type": "code",
   "execution_count": 115,
   "metadata": {
    "colab": {
     "base_uri": "https://localhost:8080/",
     "height": 284
    },
    "colab_type": "code",
    "id": "rDa_qlNfMF5L",
    "outputId": "554430d4-34d1-4925-88ef-d7f5714361ed"
   },
   "outputs": [
    {
     "data": {
      "image/png": "[encoded data removed]",
      "text/plain": [
       "<Figure size 432x288 with 1 Axes>"
      ]
     },
     "metadata": {},
     "output_type": "display_data"
    }
   ],
   "source": [
    "plt.scatter(df_train['Installs'],df_train['Rating'])\n",
    "plt.title(\"Relationship between Installs and The target variable\")\n",
    "plt.show()"
   ]
  },
  {
   "cell_type": "markdown",
   "metadata": {
    "colab_type": "text",
    "id": "EztcSuIQkDcB"
   },
   "source": [
    "### Step 11 Substep 2 : Report the R2 on the train set"
   ]
  },
  {
   "cell_type": "code",
   "execution_count": 116,
   "metadata": {
    "colab": {
     "base_uri": "https://localhost:8080/",
     "height": 34
    },
    "colab_type": "code",
    "id": "SVn53JnYkKAL",
    "outputId": "79afe501-9f61-4064-99b5-d2702e5b201a"
   },
   "outputs": [
    {
     "name": "stdout",
     "output_type": "stream",
     "text": [
      "R2 value/Coefficient of Determination: 0.11219554253256137\n"
     ]
    }
   ],
   "source": [
    "print('R2 value/Coefficient of Determination: {}'.format(model.score(x_test,y_test)))"
   ]
  },
  {
   "cell_type": "markdown",
   "metadata": {
    "colab_type": "text",
    "id": "BNuLnhpOkKqO"
   },
   "source": [
    "## Step 12 : Make predictions on test set and report R2."
   ]
  },
  {
   "cell_type": "code",
   "execution_count": 117,
   "metadata": {
    "colab": {
     "base_uri": "https://localhost:8080/",
     "height": 51
    },
    "colab_type": "code",
    "id": "09yFDjVQkOmx",
    "outputId": "d40f0b8f-df99-4b6c-e4bf-b6b6864ac080"
   },
   "outputs": [
    {
     "data": {
      "text/plain": [
       "array([3.99011236, 4.00886209, 4.04349464, ..., 4.14120839, 4.35567195,\n",
       "       4.28395777])"
      ]
     },
     "execution_count": 117,
     "metadata": {},
     "output_type": "execute_result"
    }
   ],
   "source": [
    "model.predict(x_test)"
   ]
  },
  {
   "cell_type": "code",
   "execution_count": 118,
   "metadata": {
    "colab": {
     "base_uri": "https://localhost:8080/",
     "height": 285
    },
    "colab_type": "code",
    "id": "PNIGPoL-qxY_",
    "outputId": "79469f85-1632-43cd-a91d-de5f08a84ea1"
   },
   "outputs": [
    {
     "data": {
      "text/plain": [
       "<matplotlib.collections.PathCollection at 0x1d7fcc5c6a0>"
      ]
     },
     "execution_count": 118,
     "metadata": {},
     "output_type": "execute_result"
    },
    {
     "data": {
      "image/png": "[encoded data removed]",
      "text/plain": [
       "<Figure size 432x288 with 1 Axes>"
      ]
     },
     "metadata": {},
     "output_type": "display_data"
    }
   ],
   "source": [
    "plt.scatter(y_train,model.predict(x_train))"
   ]
  },
  {
   "cell_type": "code",
   "execution_count": 119,
   "metadata": {
    "colab": {
     "base_uri": "https://localhost:8080/",
     "height": 34
    },
    "colab_type": "code",
    "id": "4TYKf1lKq1kv",
    "outputId": "33ef40c7-020d-4202-85a5-11e9cf66dcff"
   },
   "outputs": [
    {
     "name": "stdout",
     "output_type": "stream",
     "text": [
      "0.5516429000985769\n"
     ]
    }
   ],
   "source": [
    "print(sqrt(mean_squared_error(y_train,model.predict(x_train))))"
   ]
  },
  {
   "cell_type": "code",
   "execution_count": 120,
   "metadata": {
    "colab": {
     "base_uri": "https://localhost:8080/",
     "height": 285
    },
    "colab_type": "code",
    "id": "0aBqu3dLq4Oc",
    "outputId": "a9b80fc5-a585-4e64-d04e-5b28daef6604"
   },
   "outputs": [
    {
     "data": {
      "text/plain": [
       "<matplotlib.collections.PathCollection at 0x1d7fcc6c8b0>"
      ]
     },
     "execution_count": 120,
     "metadata": {},
     "output_type": "execute_result"
    },
    {
     "data": {
      "image/png": "[encoded data removed]",
      "text/plain": [
       "<Figure size 432x288 with 1 Axes>"
      ]
     },
     "metadata": {},
     "output_type": "display_data"
    }
   ],
   "source": [
    "plt.scatter(y_test,model.predict(x_test))"
   ]
  },
  {
   "cell_type": "code",
   "execution_count": 121,
   "metadata": {
    "colab": {
     "base_uri": "https://localhost:8080/",
     "height": 34
    },
    "colab_type": "code",
    "id": "g9o79uXbq6hy",
    "outputId": "6d59e2c3-4365-4174-f29d-ee0188ffba9a"
   },
   "outputs": [
    {
     "name": "stdout",
     "output_type": "stream",
     "text": [
      "0.5397894824642907\n"
     ]
    }
   ],
   "source": [
    "print(sqrt(mean_squared_error(y_test,model.predict(x_test))))"
   ]
  },
  {
   "cell_type": "markdown",
   "metadata": {
    "colab_type": "text",
    "id": "SnhXuzTbXQyF"
   },
   "source": [
    "The error in x_test prediction (0.5397) is lesser than x_train prediction (0.5516) but marginally. Hence the model is acceptable, with a slight chance of overfitting."
   ]
  },
  {
   "cell_type": "code",
   "execution_count": 122,
   "metadata": {
    "colab": {
     "base_uri": "https://localhost:8080/",
     "height": 359
    },
    "colab_type": "code",
    "id": "SIqnB9viq9Q_",
    "outputId": "1edc5708-d5dd-4cd2-f12b-127032903465"
   },
   "outputs": [
    {
     "data": {
      "text/html": [
       "<div>\n",
       "<style scoped>\n",
       "    .dataframe tbody tr th:only-of-type {\n",
       "        vertical-align: middle;\n",
       "    }\n",
       "\n",
       "    .dataframe tbody tr th {\n",
       "        vertical-align: top;\n",
       "    }\n",
       "\n",
       "    .dataframe thead th {\n",
       "        text-align: right;\n",
       "    }\n",
       "</style>\n",
       "<table border=\"1\" class=\"dataframe\">\n",
       "  <thead>\n",
       "    <tr style=\"text-align: right;\">\n",
       "      <th></th>\n",
       "      <th>Actual</th>\n",
       "      <th>Predicted</th>\n",
       "    </tr>\n",
       "  </thead>\n",
       "  <tbody>\n",
       "    <tr>\n",
       "      <th>6106</th>\n",
       "      <td>4.2</td>\n",
       "      <td>3.990112</td>\n",
       "    </tr>\n",
       "    <tr>\n",
       "      <th>8422</th>\n",
       "      <td>2.5</td>\n",
       "      <td>4.008862</td>\n",
       "    </tr>\n",
       "    <tr>\n",
       "      <th>8238</th>\n",
       "      <td>4.8</td>\n",
       "      <td>4.043495</td>\n",
       "    </tr>\n",
       "    <tr>\n",
       "      <th>6175</th>\n",
       "      <td>4.5</td>\n",
       "      <td>4.344791</td>\n",
       "    </tr>\n",
       "    <tr>\n",
       "      <th>110</th>\n",
       "      <td>4.3</td>\n",
       "      <td>4.027738</td>\n",
       "    </tr>\n",
       "    <tr>\n",
       "      <th>6050</th>\n",
       "      <td>4.4</td>\n",
       "      <td>4.214510</td>\n",
       "    </tr>\n",
       "    <tr>\n",
       "      <th>7413</th>\n",
       "      <td>2.4</td>\n",
       "      <td>4.211288</td>\n",
       "    </tr>\n",
       "    <tr>\n",
       "      <th>9356</th>\n",
       "      <td>4.6</td>\n",
       "      <td>4.147439</td>\n",
       "    </tr>\n",
       "    <tr>\n",
       "      <th>10318</th>\n",
       "      <td>4.4</td>\n",
       "      <td>4.139231</td>\n",
       "    </tr>\n",
       "    <tr>\n",
       "      <th>5568</th>\n",
       "      <td>4.2</td>\n",
       "      <td>3.845298</td>\n",
       "    </tr>\n",
       "  </tbody>\n",
       "</table>\n",
       "</div>"
      ],
      "text/plain": [
       "       Actual  Predicted\n",
       "6106      4.2   3.990112\n",
       "8422      2.5   4.008862\n",
       "8238      4.8   4.043495\n",
       "6175      4.5   4.344791\n",
       "110       4.3   4.027738\n",
       "6050      4.4   4.214510\n",
       "7413      2.4   4.211288\n",
       "9356      4.6   4.147439\n",
       "10318     4.4   4.139231\n",
       "5568      4.2   3.845298"
      ]
     },
     "execution_count": 122,
     "metadata": {},
     "output_type": "execute_result"
    }
   ],
   "source": [
    "pd.DataFrame({'Actual':y_test,'Predicted':model.predict(x_test)}).head(10)"
   ]
  },
  {
   "cell_type": "markdown",
   "metadata": {},
   "source": [
    "# ---X---"
   ]
  }
 ],
 "metadata": {
  "colab": {
   "collapsed_sections": [
    "8QFfSzWnfRTO",
    "cfCadkF6fcor",
    "ElS5vV-0fqeR",
    "kC_7VAlbmMzu",
    "oknBHRw2nMSx",
    "TQimqzBEnX65",
    "ob16YcwEoGev",
    "65Vj-Y0Rn5xP",
    "X_xr6xY6q7aV",
    "0MZQol6hrW-f",
    "dHtbU5a3rkgu",
    "QbYTkeOBruE2",
    "WsAOGStUr3sM",
    "A041SFF-sdmf",
    "2lqErcMQsmF_",
    "ebnPjQ0rstbT",
    "4NdH-pzPs0Ro",
    "JFgEQap9tdaO",
    "1iRvL1FMeVjA",
    "9JqnCIFOefIO",
    "lTJnhgzYeueY",
    "7mKgDMy3e0tr",
    "n65J69bbfZWS",
    "XzQekYfpfhnC",
    "y9qlnSVHfoJf",
    "YNOuk9LWgpcn",
    "vOaJEAY-gtUo",
    "7OipC6vOhC52",
    "nHyeZ60RhOV6",
    "kunAnXMXhZXR",
    "kLF0Z7iihoM6",
    "2n2bDxSgh0EK",
    "zP6FLMVSh9oN",
    "E4O-U9t5iG4g",
    "Nlg1j1zEiVtz",
    "a63fcqV7ii8s",
    "VHdy8UbdivJU",
    "qUuwasm8i4oP",
    "3JTdxgZ6jCun",
    "jQEA5M_jjPbl",
    "DfJmFd6CjYiI",
    "KzAcgCcojgPz",
    "nBeHe9AqjpTe",
    "r6OeRTWbjwmD",
    "yRK_9S9nj145",
    "zLP1Wn5pj8mU",
    "EztcSuIQkDcB",
    "BNuLnhpOkKqO"
   ],
   "name": "Project 1 - Google App Rating.ipynb",
   "provenance": []
  },
  "kernelspec": {
   "display_name": "Python 3",
   "language": "python",
   "name": "python3"
  },
  "language_info": {
   "codemirror_mode": {
    "name": "ipython",
    "version": 3
   },
   "file_extension": ".py",
   "mimetype": "text/x-python",
   "name": "python",
   "nbconvert_exporter": "python",
   "pygments_lexer": "ipython3",
   "version": "3.9.2"
  }
 },
 "nbformat": 4,
 "nbformat_minor": 4
}
